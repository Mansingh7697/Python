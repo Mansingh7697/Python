{
 "cells": [
  {
   "cell_type": "markdown",
   "id": "9f1f402f",
   "metadata": {},
   "source": [
    "# Write Python programs using Functions:"
   ]
  },
  {
   "cell_type": "markdown",
   "id": "22d3858e",
   "metadata": {},
   "source": [
    "### Python program to sort Python Dictionaries by Keys"
   ]
  },
  {
   "cell_type": "code",
   "execution_count": 1,
   "id": "7d8816d2",
   "metadata": {},
   "outputs": [
    {
     "name": "stdout",
     "output_type": "stream",
     "text": [
      "Given Marks dictionary is {'Maths': 96, 'Phy': 84, 'Eng': 87, 'Chem': 78, 'Bio': 87}\n",
      "Marks dictionary after sorting by keys is {'Bio': 87, 'Chem': 78, 'Eng': 87, 'Maths': 96, 'Phy': 84}\n"
     ]
    }
   ],
   "source": [
    "MarkDict = {'Maths':96, 'Phy': 84, 'Eng': 87, 'Chem': 78, 'Bio': 87}\n",
    "Keys = sorted(MarkDict.keys())\n",
    "SortedDict = {}\n",
    "\n",
    "def KeySort(Keys, MarkDict):\n",
    "    for key in Keys:\n",
    "        SortedDict[key] = MarkDict[key]\n",
    "    return SortedDict\n",
    "\n",
    "print(f'Given Marks dictionary is {MarkDict}')\n",
    "print(f'Marks dictionary after sorting by keys is {KeySort(Keys, MarkDict)}')"
   ]
  },
  {
   "cell_type": "markdown",
   "id": "eb11bff9",
   "metadata": {},
   "source": [
    "### Python program to sort Python Dictionaries by Values"
   ]
  },
  {
   "cell_type": "code",
   "execution_count": 22,
   "id": "f3e1d68b",
   "metadata": {},
   "outputs": [
    {
     "name": "stdout",
     "output_type": "stream",
     "text": [
      "Given Marks dictionary is {'Maths': 96, 'Phy': 84, 'Eng': 87, 'Chem': 78, 'Bio': 87}\n",
      "Marks dictionary after sorting by values is {'Chem': 78, 'Phy': 84, 'Eng': 87, 'Bio': 87, 'Maths': 96}\n"
     ]
    }
   ],
   "source": [
    "MarkDict = {'Maths':96, 'Phy': 84, 'Eng': 87, 'Chem': 78, 'Bio': 87}\n",
    "Values = sorted(MarkDict.values())\n",
    "SortedDict = {}\n",
    "\n",
    "def ValueSort(Values, MarkDict):\n",
    "    for i in range(len(Values)):\n",
    "        for key in MarkDict:\n",
    "            if MarkDict[key] == Values[i]:\n",
    "                SortedDict[key] = Values[i]\n",
    "    return SortedDict\n",
    "                \n",
    "print(f'Given Marks dictionary is {MarkDict}')\n",
    "print(f'Marks dictionary after sorting by values is {ValueSort(Values, MarkDict)}')"
   ]
  },
  {
   "cell_type": "markdown",
   "id": "8779eef4",
   "metadata": {},
   "source": [
    "### Python program to find the sum of all items in a dictionary"
   ]
  },
  {
   "cell_type": "code",
   "execution_count": 1,
   "id": "3bb6de66",
   "metadata": {},
   "outputs": [
    {
     "name": "stdout",
     "output_type": "stream",
     "text": [
      "Subjcetwise marks are {'Maths': 96, 'Phy': 84, 'Eng': 87, 'Chem': 69, 'Bio': 87} and Total marks are 423\n"
     ]
    }
   ],
   "source": [
    "MarkDict = {'Maths':96, 'Phy':84, 'Eng':87, 'Chem':69, 'Bio':87}\n",
    "Total = sum(MarkDict.values())\n",
    "print(f'Subjcetwise marks are {MarkDict} and Total marks are {Total}')"
   ]
  },
  {
   "cell_type": "markdown",
   "id": "9df48101",
   "metadata": {},
   "source": [
    "### Python program to remove a key from a dictionary"
   ]
  },
  {
   "cell_type": "code",
   "execution_count": 4,
   "id": "ab60f358",
   "metadata": {},
   "outputs": [
    {
     "name": "stdout",
     "output_type": "stream",
     "text": [
      "Subject wise marks are {'Maths': 96, 'Phy': 84, 'Eng': 87, 'Chem': 69, 'Bio': 87}\n",
      "Enter the subject name you want to remove: Chem\n",
      "Subject wise marks after removing Chem is {'Maths': 96, 'Phy': 84, 'Eng': 87, 'Bio': 87}\n"
     ]
    }
   ],
   "source": [
    "MarkDict = {'Maths':96, 'Phy':84, 'Eng':87, 'Chem':69, 'Bio':87}\n",
    "print(f'Subject wise marks are {MarkDict}')\n",
    "sub = input('Enter the subject name you want to remove: ')\n",
    "if sub in MarkDict.keys():\n",
    "    MarkDict.pop(sub)\n",
    "    print(f'Subject wise marks after removing {sub} is {MarkDict}')\n",
    "else:\n",
    "    print('Entered subject not in given dictionary')"
   ]
  },
  {
   "cell_type": "markdown",
   "id": "9484e4ad",
   "metadata": {},
   "source": [
    "### Python program to merge two Dictionaries"
   ]
  },
  {
   "cell_type": "code",
   "execution_count": 11,
   "id": "906d5346",
   "metadata": {},
   "outputs": [
    {
     "name": "stdout",
     "output_type": "stream",
     "text": [
      "Given lists are {'Maths': 96, 'Phy': 84, 'Eng': 87, 'Chem': 69, 'Bio': 87} and {1: 'Rohan', 2: 'Avinash', 3: 'Sagar', 4: 'Mansingh', 5: 'Sachin'}\n",
      "After Merging dictionary {'Maths': 96, 'Phy': 84, 'Eng': 87, 'Chem': 69, 'Bio': 87, 1: 'Rohan', 2: 'Avinash', 3: 'Sagar', 4: 'Mansingh', 5: 'Sachin'}\n"
     ]
    }
   ],
   "source": [
    "MarkDict = {'Maths':96, 'Phy':84, 'Eng':87, 'Chem':69, 'Bio':87}\n",
    "RollNo = {1:'Rohan', 2:'Avinash', 3:'Sagar', 4:'Mansingh', 5:'Sachin'}\n",
    "print(f'Given lists are {MarkDict} and {RollNo}')\n",
    "MarkDict.update(RollNo)\n",
    "print(f'After Merging dictionary {MarkDict}')"
   ]
  },
  {
   "cell_type": "markdown",
   "id": "e36612ee",
   "metadata": {},
   "source": [
    "### Program to create grade calculator in Python"
   ]
  },
  {
   "cell_type": "code",
   "execution_count": 20,
   "id": "a7f0159d",
   "metadata": {},
   "outputs": [
    {
     "name": "stdout",
     "output_type": "stream",
     "text": [
      "Enter the marks for Maths: 98\n",
      "Enter the marks for Phy: 84\n",
      "Enter the marks for Chem: 97\n",
      "Enter the marks for IT: 100\n",
      "Enter the marks for Bio: 86\n",
      "Enter the marks for Eng: 90\n",
      "Congratulation... You got \"O\" grade.\n"
     ]
    }
   ],
   "source": [
    "def Marks():\n",
    "    sub = ['Maths', 'Phy', 'Chem', 'IT', 'Bio', 'Eng']\n",
    "    Result = {}\n",
    "    for subject in sub:\n",
    "        marks = int(input(f'Enter the marks for {subject}: '))\n",
    "        Result[subject] = marks\n",
    "        if marks < 40:\n",
    "            return False\n",
    "    percentage = sum(Result.values())/len(Result)\n",
    "    return percentage\n",
    "\n",
    "def grade(percentage):\n",
    "    if percentage >= 90:\n",
    "        print('Congratulation... You got \"O\" grade.')\n",
    "    elif percentage >= 65:\n",
    "        print('Congratulation... You got \"A\" grade.')\n",
    "    elif percentage >= 60:\n",
    "        print('Good... You got \"B\" grade.')\n",
    "    elif percentage >= 40:\n",
    "        print('You got \"C\" grade.')\n",
    "    else:\n",
    "        print(\"Sorry... You are Fail.\")\n",
    "        \n",
    "grade(Marks())"
   ]
  },
  {
   "cell_type": "markdown",
   "id": "1879facf",
   "metadata": {},
   "source": [
    "### Print anagrams together in Python using List and Dictionary"
   ]
  },
  {
   "cell_type": "code",
   "execution_count": 26,
   "id": "694b0eac",
   "metadata": {},
   "outputs": [
    {
     "name": "stdout",
     "output_type": "stream",
     "text": [
      "Given list is ['cat', 'dog', 'wolf', 'god', 'tac', 'flow', 'act']\n",
      "List with anagrams together is [cat, tac, act | dog, god | wolf, flow | ]\n"
     ]
    }
   ],
   "source": [
    "\"\"\"An anagram is a word or phrase formed by rearranging the letters of a different word or phrase, \n",
    "typically using all the original letters exactly once.\"\"\"\n",
    "\n",
    "def Anagrams(inputList):\n",
    "    AnagramDict = {}\n",
    "    \n",
    "    for string in inputList:\n",
    "        key = ''.join(sorted(string))\n",
    "        if key in AnagramDict.keys():\n",
    "            AnagramDict[key].append(string)\n",
    "        else:\n",
    "            AnagramDict[key] = []\n",
    "            AnagramDict[key].append(string)\n",
    "    \n",
    "    output = ''\n",
    "    for key, value in AnagramDict.items():\n",
    "        output = output + ', '.join(value) + ' | '\n",
    "        \n",
    "    return output\n",
    "\n",
    "inputList = ['cat', 'dog', 'wolf', 'god', 'tac', 'flow', 'act']\n",
    "print(f'Given list is {inputList}')\n",
    "print(f'List with anagrams together is [{Anagrams(inputList)}]')"
   ]
  },
  {
   "cell_type": "markdown",
   "id": "380946be",
   "metadata": {},
   "source": [
    "### Check if binary representations of two numbers are an anagram"
   ]
  },
  {
   "cell_type": "code",
   "execution_count": 34,
   "id": "51f33981",
   "metadata": {},
   "outputs": [
    {
     "name": "stdout",
     "output_type": "stream",
     "text": [
      "Enter two number separated by space: 5 3\n",
      "Binary representation of 5 is 101 and 3 is 011\n",
      "Binary representation of 5 and 3 are anagrams.\n"
     ]
    }
   ],
   "source": [
    "from collections import Counter\n",
    "\n",
    "def checkAnagram(num1, num2):\n",
    "    \n",
    "    bin1 = bin(num1)[2:]\n",
    "    bin2 = bin(num2)[2:]\n",
    "    \n",
    "    zeros = abs(len(bin1)-len(bin2))\n",
    "    if len(bin1) > len(bin2):\n",
    "        bin2 = zeros * '0' + bin2\n",
    "    else:\n",
    "        bin1 = zeros * '0' + bin1\n",
    "        \n",
    "    dict1 = Counter(bin1)\n",
    "    dict2 = Counter(bin2)\n",
    "\n",
    "    print(f'Binary representation of {num1} is {bin1} and {num2} is {bin2}')\n",
    "    \n",
    "    if dict1 == dict2:\n",
    "        print(f'Binary representation of {num1} and {num2} are anagrams.')\n",
    "    else:\n",
    "        print(f'Binary representation of {num1} and {num2} is not anagrams.')\n",
    "        \n",
    "num1, num2 = map(int,input(\"Enter two number separated by space: \").split())\n",
    "checkAnagram(num1, num2)"
   ]
  },
  {
   "cell_type": "markdown",
   "id": "e7207d21",
   "metadata": {},
   "source": [
    "### Python Counter to find the size of the largest subset of anagram words"
   ]
  },
  {
   "cell_type": "code",
   "execution_count": 42,
   "id": "abfc8b80",
   "metadata": {},
   "outputs": [
    {
     "name": "stdout",
     "output_type": "stream",
     "text": [
      "Given string is \"act magnate magenta tac gnamate\"\n",
      "Size of largest subset of anagram words is 3\n"
     ]
    }
   ],
   "source": [
    "from collections import Counter\n",
    "\n",
    "def maxAnagramSize(string):\n",
    "    input1 = string.split()\n",
    "    \n",
    "    for i in range(len(input1)):\n",
    "        input1[i] = ''.join(sorted(input1[i]))\n",
    "        \n",
    "    freqDict = Counter(input1)\n",
    "    return max(freqDict.values())\n",
    "\n",
    "string = 'act magnate magenta tac gnamate'\n",
    "\n",
    "print(f'Given string is \"{string}\"')\n",
    "print(f'Size of largest subset of anagram words is {maxAnagramSize(string)}')"
   ]
  },
  {
   "cell_type": "markdown",
   "id": "de9bc51d",
   "metadata": {},
   "source": [
    "### Python Dictionary to find mirror characters in a string"
   ]
  },
  {
   "cell_type": "code",
   "execution_count": 13,
   "id": "cb67ae43",
   "metadata": {},
   "outputs": [
    {
     "name": "stdout",
     "output_type": "stream",
     "text": [
      "Given string is \"python\" and mirror characters from position 3 to end string is: pygslm\n",
      "Given string is \"learning\" and mirror characters from position 3 to end string is: learmrmt\n"
     ]
    }
   ],
   "source": [
    "\"\"\" Mirroring the alphabetical order means that a corresponds to z, b corresponds to y. \n",
    " Which means that first character becomes the last and so on. \"\"\"\n",
    "\n",
    "def MirrorChar(string, k=1):\n",
    "    \n",
    "    original = 'abcdefghijklmnopqrstuvwxyz'\n",
    "    reverse = 'zyxwvutsrqponmlkjihgfedcba'\n",
    "    charDict = dict(zip(original, reverse)) \n",
    "    \n",
    "    prefix = string[:k-1]\n",
    "    suffix = string[k-1:]\n",
    "    mirror = ''\n",
    "    \n",
    "    for i in range(len(suffix)):\n",
    "        mirror = mirror + charDict[suffix[i]]\n",
    "    \n",
    "    print(prefix + mirror)\n",
    "    \n",
    "# We mirror characters from position 3 to end.\n",
    "string = 'python'\n",
    "print(f'Given string is \"{string}\" and mirror characters from position 3 to end string is: ',end='')\n",
    "MirrorChar(string,3)\n",
    "\n",
    "# We mirror characters from position 5 to end.\n",
    "string = 'learning'\n",
    "print(f'Given string is \"{string}\" and mirror characters from position 3 to end string is: ',end='')\n",
    "MirrorChar(string,5)"
   ]
  },
  {
   "cell_type": "markdown",
   "id": "514ee215",
   "metadata": {},
   "source": [
    "### Counting the frequencies in a list using a dictionary in Python"
   ]
  },
  {
   "cell_type": "code",
   "execution_count": 24,
   "id": "3d35e244",
   "metadata": {},
   "outputs": [
    {
     "name": "stdout",
     "output_type": "stream",
     "text": [
      "Given list of variables is:\n",
      " [100, 20, 100, 200, 300, 400, 'python', 600, 500, 20, 400, 500, 'Machine Learning', 20, 200, 300, 600, 100, 500, 'AI']\n",
      "Variables with its frequncy are:\n",
      " {100: 3, 20: 3, 200: 2, 300: 2, 400: 2, 'python': 1, 600: 2, 500: 3, 'Machine Learning': 1, 'AI': 1}\n"
     ]
    }
   ],
   "source": [
    "def frequency(list1):\n",
    "    count = dict()\n",
    "    \n",
    "    for word in list1:\n",
    "        if word in count:\n",
    "            count[word] += 1\n",
    "        else:\n",
    "            count[word] = 1\n",
    "        \n",
    "    print(f'Variables with its frequncy are:\\n {count}')\n",
    "\n",
    "list1 = [100,20,100,200,300,400,'python',600,500,20,400,500,'Machine Learning',20,200,300,600,100,500,'AI']\n",
    "print(f'Given list of variables is:\\n {list1}')\n",
    "frequency(list1)"
   ]
  },
  {
   "cell_type": "markdown",
   "id": "dcf47961",
   "metadata": {},
   "source": [
    "### Python program to convert a list of Tuples into Dictionary"
   ]
  },
  {
   "cell_type": "code",
   "execution_count": 25,
   "id": "bd35d9b3",
   "metadata": {},
   "outputs": [
    {
     "name": "stdout",
     "output_type": "stream",
     "text": [
      "Given list of tuples is [('A', 100), ('B', 500), ('C', 300), ('D', 450), ('E', 700)]\n",
      "After converting it into dictionary is {'A': 100, 'B': 500, 'C': 300, 'D': 450, 'E': 700}\n"
     ]
    }
   ],
   "source": [
    "TupleList = [('A',100),('B',500),('C',300),('D',450),('E',700)]\n",
    "print(f'Given list of tuples is {TupleList}')\n",
    "print(f'After converting it into dictionary is {dict(TupleList)}')"
   ]
  },
  {
   "cell_type": "markdown",
   "id": "f5c5a652",
   "metadata": {},
   "source": [
    "### Scraping And Finding Ordered Words In A Dictionary using Python"
   ]
  },
  {
   "cell_type": "code",
   "execution_count": 30,
   "id": "c21fa64b",
   "metadata": {},
   "outputs": [
    {
     "name": "stdout",
     "output_type": "stream",
     "text": [
      "deer \t: It is an Ordered word.\n",
      "tiger \t: It is not Ordered word.\n",
      "tree \t: It is not Ordered word.\n",
      "abbey \t: It is an Ordered word.\n",
      "dirt \t: It is an Ordered word.\n"
     ]
    }
   ],
   "source": [
    "# An ordered word is word in which letter appear in the alphabetic order. \n",
    "\n",
    "def isOrdered(list1):\n",
    "    for word in list1:\n",
    "        i = 0\n",
    "        l = len(word)-1\n",
    "        flag = 0\n",
    "        while i < l:\n",
    "            if(ord(word[i]) > ord(word[i+1])):\n",
    "                flag = 1\n",
    "                print(f'{word} \\t: It is not Ordered word.')\n",
    "                break\n",
    "            else:\n",
    "                i += 1\n",
    "        if flag == 0:\n",
    "            print(f'{word} \\t: It is an Ordered word.')\n",
    "            \n",
    "list1 = ['deer','tiger','tree','abbey','dirt']\n",
    "isOrdered(list1)"
   ]
  },
  {
   "cell_type": "markdown",
   "id": "d9f0e1d2",
   "metadata": {},
   "source": [
    "### Create a list of tuples from the given list having a number and its cube in each tuple"
   ]
  },
  {
   "cell_type": "code",
   "execution_count": 32,
   "id": "cf2cda8f",
   "metadata": {},
   "outputs": [
    {
     "name": "stdout",
     "output_type": "stream",
     "text": [
      "Enter the number you want to add in list separated by space: 2 3 4 5 7\n",
      "Given numbers of list is : [2, 3, 4, 5, 7]\n",
      "List of numbers and its cube in tuple format is [(2, 8), (3, 27), (4, 64), (5, 125), (7, 343)]\n"
     ]
    }
   ],
   "source": [
    "list1 = list(map(int,input('Enter the number you want to add in list separated by space: ').split()))\n",
    "cube = lambda list1 : [(i, i**3) for i in list1]\n",
    "print(f'Given numbers of list is : {list1}')\n",
    "print(f'List of numbers and its cube in tuple format is {cube(list1)}')"
   ]
  },
  {
   "cell_type": "markdown",
   "id": "50fb33c1",
   "metadata": {},
   "source": [
    "### Sort a list of tuples by the second Item"
   ]
  },
  {
   "cell_type": "code",
   "execution_count": 2,
   "id": "324ccc6c",
   "metadata": {},
   "outputs": [
    {
     "name": "stdout",
     "output_type": "stream",
     "text": [
      "Given list of tuples is : [('a', 20), ('b', 5), ('c', 40), ('d', 7), ('e', 18)]\n",
      "List after sorting tuples by second item is : [('b', 5), ('d', 7), ('e', 18), ('a', 20), ('c', 40)]\n"
     ]
    }
   ],
   "source": [
    "def sortTuple(list1):\n",
    "    l = len(list1)\n",
    "    for i in range(l):\n",
    "        for j in range(l-i-1):\n",
    "            if (list1[j][1] > list1[j+1][1]):\n",
    "                temp = list1[j]\n",
    "                list1[j] = list1[j+1]\n",
    "                list1[j+1] = temp\n",
    "    return list1\n",
    "\n",
    "list1 = [('a', 20),('b', 5),('c', 40),('d', 7),('e', 18)]\n",
    "print(f'Given list of tuples is : {list1}')\n",
    "print(f'List after sorting tuples by second item is : {sortTuple(list1)}')"
   ]
  }
 ],
 "metadata": {
  "kernelspec": {
   "display_name": "Python 3 (ipykernel)",
   "language": "python",
   "name": "python3"
  },
  "language_info": {
   "codemirror_mode": {
    "name": "ipython",
    "version": 3
   },
   "file_extension": ".py",
   "mimetype": "text/x-python",
   "name": "python",
   "nbconvert_exporter": "python",
   "pygments_lexer": "ipython3",
   "version": "3.9.12"
  }
 },
 "nbformat": 4,
 "nbformat_minor": 5
}

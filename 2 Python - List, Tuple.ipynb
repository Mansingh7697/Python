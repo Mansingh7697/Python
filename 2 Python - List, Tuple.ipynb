{
 "cells": [
  {
   "cell_type": "markdown",
   "id": "0f97f98a",
   "metadata": {},
   "source": [
    "### What is a List?"
   ]
  },
  {
   "cell_type": "code",
   "execution_count": null,
   "id": "e2e797e4",
   "metadata": {},
   "outputs": [],
   "source": [
    "- List is built in data type in python and it is mutable.\n",
    "- Lists are used to store multiple items in a single variable.\n",
    "- List is created using square brackets []\n",
    "- List items are ordered, changeable, and allow duplicate values. \n",
    "- List items are indexed.\n",
    "- List items are comma separated values."
   ]
  },
  {
   "cell_type": "markdown",
   "id": "35ade3bb",
   "metadata": {},
   "source": [
    "### What is a Tuple?"
   ]
  },
  {
   "cell_type": "code",
   "execution_count": null,
   "id": "9f6fb8f9",
   "metadata": {},
   "outputs": [],
   "source": [
    "- Tuple is built in data type in python and it is immutable.\n",
    "- Tuples are used to store multiple items in a single variable.\n",
    "- Tuples are created using round brackets (,)\n",
    "- Tuple is a collection which is ordered, unchageable and allow duplicate values.\n",
    "- To create a tuple with only one item, we have to add a comma after the item, \n",
    "  otherwise Python will not recognize it as a tuple.\n",
    "- Tuple items are indexed.\n",
    "- Tuple items are comma separated values. "
   ]
  },
  {
   "cell_type": "markdown",
   "id": "52bcd86d",
   "metadata": {},
   "source": [
    "### What is the difference between List and Tuple?"
   ]
  },
  {
   "cell_type": "code",
   "execution_count": null,
   "id": "6cd4aeac",
   "metadata": {},
   "outputs": [],
   "source": [
    "- The key difference between the tuples and list is that the tuples are \n",
    "  immutable objects while list are mutable.\n",
    "- Tuples are more memory efficient than lists.\n",
    "- The list is dynamic, whereas tuple has static characterstics.\n",
    "- Implications of iterations is time consuming in lists but it is \n",
    "  comparatively faster in tuples.\n",
    "- Lists have several built in methods but tuples does not have many built-in methods."
   ]
  },
  {
   "cell_type": "markdown",
   "id": "47bfb249",
   "metadata": {},
   "source": [
    "### Python Program to find the largest element in the list"
   ]
  },
  {
   "cell_type": "code",
   "execution_count": 12,
   "id": "d0b54037",
   "metadata": {},
   "outputs": [
    {
     "name": "stdout",
     "output_type": "stream",
     "text": [
      "Enter elements of list separated by space.12 32 54 68 47 65\n",
      "Given list is: ['12', '32', '54', '68', '47', '65']\n",
      "Largest element in the list is: 68\n"
     ]
    }
   ],
   "source": [
    "lst = input(\"Enter elements of list separated by space: \").split()\n",
    "print(\"Given list is:\",lst)\n",
    "lst.sort()\n",
    "print(\"Largest element in the list is:\",lst[-1])"
   ]
  },
  {
   "cell_type": "markdown",
   "id": "490fc0f1",
   "metadata": {},
   "source": [
    "### Python program to interchange first and last elements in a list."
   ]
  },
  {
   "cell_type": "code",
   "execution_count": 13,
   "id": "6427fb9a",
   "metadata": {},
   "outputs": [
    {
     "name": "stdout",
     "output_type": "stream",
     "text": [
      "Enter elements of list separated by space.124 456 876 356 4645 2232 14 697 \n",
      "Given list is ['124', '456', '876', '356', '4645', '2232', '14', '697']\n",
      "List after interchanging first and last elements is ['697', '456', '876', '356', '4645', '2232', '14', '124']\n"
     ]
    }
   ],
   "source": [
    "lst = input(\"Enter elements of list separated by space: \").split()\n",
    "print(f\"Given list is {lst}\")\n",
    "first = lst[0]\n",
    "last = lst[-1]\n",
    "lst[0] = last\n",
    "lst[-1] = first\n",
    "print(f\"List after interchanging first and last elements is {lst}\")"
   ]
  },
  {
   "cell_type": "markdown",
   "id": "9d16bb45",
   "metadata": {},
   "source": [
    "### Python program to swap two elements in a list"
   ]
  },
  {
   "cell_type": "code",
   "execution_count": 19,
   "id": "5a3d1d83",
   "metadata": {},
   "outputs": [
    {
     "name": "stdout",
     "output_type": "stream",
     "text": [
      "Enter unique elements of list separated by space: 23 45 65 14 78 9 36 48 97\n",
      "Given list is ['23', '45', '65', '14', '78', '9', '36', '48', '97']\n",
      "Enter two element from list to swap, separated by space: 45 9\n",
      "List after swapping two elements is: ['23', '9', '65', '14', '78', '45', '36', '48', '97']\n"
     ]
    }
   ],
   "source": [
    "lst = input(\"Enter unique elements of list separated by space: \").split()\n",
    "print(f\"Given list is {lst}\")\n",
    "n1, n2 = input(\"Enter two element from list to swap, separated by space: \").split()\n",
    "first = lst.index(n1)\n",
    "second = lst.index(n2)\n",
    "lst[first] = n2\n",
    "lst[second] = n1\n",
    "print(f\"List after swapping two elements is: {lst}\")"
   ]
  },
  {
   "cell_type": "markdown",
   "id": "3f8b8df2",
   "metadata": {},
   "source": [
    "### Python program to Reverse a List"
   ]
  },
  {
   "cell_type": "code",
   "execution_count": 22,
   "id": "9ba56d39",
   "metadata": {},
   "outputs": [
    {
     "name": "stdout",
     "output_type": "stream",
     "text": [
      "Enter elements of lists separated by space: 12 35 65 78 24 9\n",
      "Given list is: ['12', '35', '65', '78', '24', '9']\n",
      "Reverse list is: ['9', '24', '78', '65', '35', '12']\n"
     ]
    }
   ],
   "source": [
    "lst = input(\"Enter elements of lists separated by space: \").split()\n",
    "print(f\"Given list is: {lst}\")\n",
    "lst.reverse()\n",
    "print(f\"Reverse list is: {lst}\")"
   ]
  },
  {
   "cell_type": "markdown",
   "id": "56aefef4",
   "metadata": {},
   "source": [
    "### Python program to count occurrences of an element in a list"
   ]
  },
  {
   "cell_type": "code",
   "execution_count": 27,
   "id": "455b3698",
   "metadata": {},
   "outputs": [
    {
     "name": "stdout",
     "output_type": "stream",
     "text": [
      "Enter elements in list separated by space: 12 56 23 12 34 12 54 78 12\n",
      "Given list is: [12, 56, 23, 12, 34, 12, 54, 78, 12]\n",
      "Enter an element to count the occurences in given list: 12\n",
      "The number 12 is occured 4 times in given list.\n"
     ]
    }
   ],
   "source": [
    "lst = list(map(int,input(\"Enter elements in list separated by space: \").split()))\n",
    "print(f\"Given list is: {lst}\")\n",
    "value = int(input(\"Enter an element to count the occurences in given list: \"))\n",
    "print(f\"The number {value} is occured {lst.count(value)} times in given list.\")"
   ]
  },
  {
   "cell_type": "markdown",
   "id": "af478ee2",
   "metadata": {},
   "source": [
    "### Python program to find the sum of elements in a list"
   ]
  },
  {
   "cell_type": "code",
   "execution_count": 28,
   "id": "a1b644a3",
   "metadata": {},
   "outputs": [
    {
     "name": "stdout",
     "output_type": "stream",
     "text": [
      "Enter elements of list separated by space: 12 23 56 98 47 15\n",
      "Given list is :[12, 23, 56, 98, 47, 15]\n",
      "Sum of all elements in list is 251\n"
     ]
    }
   ],
   "source": [
    "lst = list(map(int,input(\"Enter elements of list separated by space: \").split()))\n",
    "print(f\"Given list is :{lst}\")\n",
    "lstSum = 0\n",
    "for i in range(len(lst)):\n",
    "    lstSum = lstSum + lst[i]\n",
    "print(f\"Sum of all elements in list is {lstSum}\")"
   ]
  },
  {
   "cell_type": "markdown",
   "id": "fde96be0",
   "metadata": {},
   "source": [
    "### Python program to Multiply all numbers in the list"
   ]
  },
  {
   "cell_type": "code",
   "execution_count": 29,
   "id": "f141be7f",
   "metadata": {},
   "outputs": [
    {
     "name": "stdout",
     "output_type": "stream",
     "text": [
      "Enter elements of list separated by space: 12 23 56 47 58 96 32\n",
      "Enter a number to multiply all elements of list: 2\n",
      "Given list is : [12, 23, 56, 47, 58, 96, 32]\n",
      "List after multiplying each element by 2 is : [24, 46, 112, 94, 116, 192, 64]\n"
     ]
    }
   ],
   "source": [
    "lst = list(map(int,input(\"Enter elements of list separated by space: \").split()))\n",
    "num = int(input(\"Enter a number to multiply all elements of list: \"))\n",
    "print(f\"Given list is : {lst}\")\n",
    "for i in range(len(lst)):\n",
    "    lst[i] = lst[i]*num\n",
    "print(f\"List after multiplying each element by {num} is : {lst}\")"
   ]
  },
  {
   "cell_type": "markdown",
   "id": "48610e9f",
   "metadata": {},
   "source": [
    "### What are the ways to find the length of a list"
   ]
  },
  {
   "cell_type": "code",
   "execution_count": 31,
   "id": "d679c8e9",
   "metadata": {},
   "outputs": [
    {
     "name": "stdout",
     "output_type": "stream",
     "text": [
      "Enter elements of a list separated by space: 12 23 56 45 87\n",
      "Given list is : [12, 23, 56, 45, 87] and its length is : 5\n",
      "Length using index() function is : 5\n",
      "Length using for loop is : 5\n"
     ]
    }
   ],
   "source": [
    "# By using len() function\n",
    "lst = list(map(int,input(\"Enter elements of a list separated by space: \").split()))\n",
    "print(f\"Given list is : {lst} and its length is : {len(lst)}\")\n",
    "\n",
    "# By using index() function : Using index of last elemnet of list\n",
    "print(f\"Length using index() function is : {lst.index(lst[-1])+1}\")\n",
    "\n",
    "# By using for loop\n",
    "count = 0\n",
    "for value in lst:\n",
    "    count += 1\n",
    "print(f\"Length using for loop is : {count}\")"
   ]
  },
  {
   "cell_type": "markdown",
   "id": "599b5875",
   "metadata": {},
   "source": [
    "### Python program to find the smallest and largest number in a list (Without min-max function)"
   ]
  },
  {
   "cell_type": "code",
   "execution_count": 32,
   "id": "b4c7191f",
   "metadata": {},
   "outputs": [
    {
     "name": "stdout",
     "output_type": "stream",
     "text": [
      "Enter elements of a list separated by space: 12 23 65 1 78 96\n",
      "Using min-max function on list, Minimum value is 1 and Maximum value is 96\n",
      "Without using min-max function, Minimum value is 1 and Maximum value is 96\n"
     ]
    }
   ],
   "source": [
    "lst = list(map(int,input(\"Enter elements of a list separated by space: \").split()))\n",
    "print(f\"Using min-max function on list, Minimum value is {min(lst)} and Maximum value is {max(lst)}\")\n",
    "lst.sort()\n",
    "print(f\"Without using min-max function, Minimum value is {lst[0]} and Maximum value is {lst[-1]}\")"
   ]
  },
  {
   "cell_type": "markdown",
   "id": "f30cf400",
   "metadata": {},
   "source": [
    "### Python Program to find the area of a circle"
   ]
  },
  {
   "cell_type": "code",
   "execution_count": 39,
   "id": "a393eedb",
   "metadata": {},
   "outputs": [
    {
     "name": "stdout",
     "output_type": "stream",
     "text": [
      "Enter a radius of a circle: 5\n",
      "Area of circle is : 78.53981633974483\n"
     ]
    }
   ],
   "source": [
    "import numpy as np\n",
    "radius = float(input(\"Enter a radius of a circle: \"))\n",
    "area = np.pi * (radius**2)\n",
    "print(f\"Area of circle is : {area}\")"
   ]
  },
  {
   "cell_type": "markdown",
   "id": "bda9d59f",
   "metadata": {},
   "source": [
    "### Take inputs from the user to make a list. Again take one input from the user and search it in the list and delete that element, if found. Iterate over a list using for loop."
   ]
  },
  {
   "cell_type": "code",
   "execution_count": 47,
   "id": "af53a27a",
   "metadata": {},
   "outputs": [
    {
     "name": "stdout",
     "output_type": "stream",
     "text": [
      "Enter elements of list separated by a space: 12 23 45 55 65 51 73 45 48 92 45 70\n",
      "Enter a number to be delete from the list: 45\n",
      "Given list is : [12, 23, 45, 55, 65, 51, 73, 45, 48, 92, 45, 70]\n",
      "The list after removing the 45 is [12, 23, 55, 65, 51, 73, 48, 92, 70]\n"
     ]
    }
   ],
   "source": [
    "lst = list(map(int,input(\"Enter elements of list separated by a space: \").split()))\n",
    "num = int(input(\"Enter a number to be delete from the list: \"))\n",
    "count = lst.count(num)\n",
    "print(f\"Given list is : {lst}\")\n",
    "iteration = 0\n",
    "if num in lst:\n",
    "    for i in range(len(lst)):\n",
    "        if lst[i] == num:\n",
    "            lst.remove(num)\n",
    "            iteration += 1\n",
    "        if iteration == count:\n",
    "            print(f\"The list after removing the {num} is {lst}\")\n",
    "            break\n",
    "else:\n",
    "    print(f\"The number {num} is not present in the list.\")"
   ]
  },
  {
   "cell_type": "markdown",
   "id": "6bba1bcd",
   "metadata": {},
   "source": [
    "### You are given a list of integer elements. Make a new list that will store a square of elements of the previous list. (With and without list comprehension)\n",
    "i. Input_list = [2,5,6,12] \n",
    "\n",
    "ii. Output_list = [4,25,36,144]"
   ]
  },
  {
   "cell_type": "code",
   "execution_count": 8,
   "id": "a645718e",
   "metadata": {},
   "outputs": [
    {
     "name": "stdout",
     "output_type": "stream",
     "text": [
      "Enter elements of list separated by space: 2 5 6 12\n",
      "Given list is : [2, 5, 6, 12]\n",
      "List with Square of elements is : [4, 25, 36, 144]\n",
      "List with Square of elements using list Comprehension is : [4, 25, 36, 144]\n"
     ]
    }
   ],
   "source": [
    "# Using for loop i.e. without list comprehension\n",
    "lst = list(map(int,input(\"Enter elements of list separated by space: \").split()))\n",
    "SquareList = []\n",
    "for i in range(len(lst)):\n",
    "    SquareList.append(lst[i]**2)\n",
    "print(f\"Given list is : {lst}\")\n",
    "print(f\"List with Square of elements is : {SquareList}\")\n",
    "\n",
    "# Using list comprehension\n",
    "SquareList1 = [x**2 for x in lst]\n",
    "print(f\"List with Square of elements using list Comprehension is : {SquareList1}\")"
   ]
  },
  {
   "cell_type": "markdown",
   "id": "347e9fd4",
   "metadata": {},
   "source": [
    "### WAP to create two lists, one containing all even numbers and the other containing all odd numbers between 0 to 151"
   ]
  },
  {
   "cell_type": "code",
   "execution_count": 15,
   "id": "c2d92cca",
   "metadata": {},
   "outputs": [
    {
     "name": "stdout",
     "output_type": "stream",
     "text": [
      "Given list is :\n",
      "[0, 1, 2, 3, 4, 5, 6, 7, 8, 9, 10, 11, 12, 13, 14, 15, 16, 17, 18, 19, 20, 21, 22, 23, 24, 25, 26, 27, 28, 29, 30, 31, 32, 33, 34, 35, 36, 37, 38, 39, 40, 41, 42, 43, 44, 45, 46, 47, 48, 49, 50, 51, 52, 53, 54, 55, 56, 57, 58, 59, 60, 61, 62, 63, 64, 65, 66, 67, 68, 69, 70, 71, 72, 73, 74, 75, 76, 77, 78, 79, 80, 81, 82, 83, 84, 85, 86, 87, 88, 89, 90, 91, 92, 93, 94, 95, 96, 97, 98, 99, 100, 101, 102, 103, 104, 105, 106, 107, 108, 109, 110, 111, 112, 113, 114, 115, 116, 117, 118, 119, 120, 121, 122, 123, 124, 125, 126, 127, 128, 129, 130, 131, 132, 133, 134, 135, 136, 137, 138, 139, 140, 141, 142, 143, 144, 145, 146, 147, 148, 149, 150, 151]\n",
      "\n",
      "List of Odd Numbsers is :\n",
      "[1, 3, 5, 7, 9, 11, 13, 15, 17, 19, 21, 23, 25, 27, 29, 31, 33, 35, 37, 39, 41, 43, 45, 47, 49, 51, 53, 55, 57, 59, 61, 63, 65, 67, 69, 71, 73, 75, 77, 79, 81, 83, 85, 87, 89, 91, 93, 95, 97, 99, 101, 103, 105, 107, 109, 111, 113, 115, 117, 119, 121, 123, 125, 127, 129, 131, 133, 135, 137, 139, 141, 143, 145, 147, 149, 151]\n",
      "\n",
      "List of Even Numbers is :\n",
      "[0, 2, 4, 6, 8, 10, 12, 14, 16, 18, 20, 22, 24, 26, 28, 30, 32, 34, 36, 38, 40, 42, 44, 46, 48, 50, 52, 54, 56, 58, 60, 62, 64, 66, 68, 70, 72, 74, 76, 78, 80, 82, 84, 86, 88, 90, 92, 94, 96, 98, 100, 102, 104, 106, 108, 110, 112, 114, 116, 118, 120, 122, 124, 126, 128, 130, 132, 134, 136, 138, 140, 142, 144, 146, 148, 150]\n"
     ]
    }
   ],
   "source": [
    "num = 151\n",
    "lst = []\n",
    "Elst = []\n",
    "Olst = []\n",
    "for i in range(num+1):\n",
    "    lst.append(i)\n",
    "for i in range(len(lst)):\n",
    "    if lst[i]%2==0:\n",
    "        Elst.append(i)\n",
    "    else:\n",
    "        Olst.append(i)\n",
    "print(f\"Given list is :\\n{lst}\")\n",
    "print(f\"\\nList of Odd Numbsers is :\\n{Olst}\")\n",
    "print(f\"\\nList of Even Numbers is :\\n{Elst}\")"
   ]
  },
  {
   "cell_type": "markdown",
   "id": "0765b9f8",
   "metadata": {},
   "source": [
    "### Python program to Count Even and Odd numbers in a List"
   ]
  },
  {
   "cell_type": "code",
   "execution_count": 16,
   "id": "1175d57b",
   "metadata": {},
   "outputs": [
    {
     "name": "stdout",
     "output_type": "stream",
     "text": [
      "Enter elements of list seaparated by space: 2 45 3 6 5 9 45 78 61\n",
      "Given list is : [2, 45, 3, 6, 5, 9, 45, 78, 61]\n",
      "It has 3 even numbers and 6 odd numbers.\n"
     ]
    }
   ],
   "source": [
    "lst = list(map(int,input(\"Enter elements of list seaparated by space: \").split()))\n",
    "Ecount = Ocount = 0\n",
    "for num in lst:\n",
    "    if num % 2 == 0:\n",
    "        Ecount += 1\n",
    "    else:\n",
    "        Ocount += 1\n",
    "print(f\"Given list is : {lst}\")\n",
    "print(f\"It has {Ecount} even numbers and {Ocount} odd numbers.\")"
   ]
  },
  {
   "cell_type": "markdown",
   "id": "3ae1222b",
   "metadata": {},
   "source": [
    "### WAP to make new lists, containing only numbers which are divisible by 4, 6, 8, 10, 3, 5, 7, and 9 in separate lists for range(0,151)"
   ]
  },
  {
   "cell_type": "code",
   "execution_count": 23,
   "id": "39c34f43",
   "metadata": {},
   "outputs": [
    {
     "name": "stdout",
     "output_type": "stream",
     "text": [
      "The list of numbers divisible by 3 in range of 0 to 151 is :\n",
      "[0, 3, 6, 9, 12, 15, 18, 21, 24, 27, 30, 33, 36, 39, 42, 45, 48, 51, 54, 57, 60, 63, 66, 69, 72, 75, 78, 81, 84, 87, 90, 93, 96, 99, 102, 105, 108, 111, 114, 117, 120, 123, 126, 129, 132, 135, 138, 141, 144, 147, 150]\n",
      "\n",
      "The list of numbers divisible by 4 in range of 0 to 151 is :\n",
      "[0, 4, 8, 12, 16, 20, 24, 28, 32, 36, 40, 44, 48, 52, 56, 60, 64, 68, 72, 76, 80, 84, 88, 92, 96, 100, 104, 108, 112, 116, 120, 124, 128, 132, 136, 140, 144, 148]\n",
      "\n",
      "The list of numbers divisible by 5 in range of 0 to 151 is :\n",
      "[0, 5, 10, 15, 20, 25, 30, 35, 40, 45, 50, 55, 60, 65, 70, 75, 80, 85, 90, 95, 100, 105, 110, 115, 120, 125, 130, 135, 140, 145, 150]\n",
      "\n",
      "The list of numbers divisible by 6 in range of 0 to 151 is :\n",
      "[0, 6, 12, 18, 24, 30, 36, 42, 48, 54, 60, 66, 72, 78, 84, 90, 96, 102, 108, 114, 120, 126, 132, 138, 144, 150]\n",
      "\n",
      "The list of numbers divisible by 7 in range of 0 to 151 is :\n",
      "[0, 7, 14, 21, 28, 35, 42, 49, 56, 63, 70, 77, 84, 91, 98, 105, 112, 119, 126, 133, 140, 147]\n",
      "\n",
      "The list of numbers divisible by 8 in range of 0 to 151 is :\n",
      "[0, 8, 16, 24, 32, 40, 48, 56, 64, 72, 80, 88, 96, 104, 112, 120, 128, 136, 144]\n",
      "\n",
      "The list of numbers divisible by 9 in range of 0 to 151 is :\n",
      "[0, 9, 18, 27, 36, 45, 54, 63, 72, 81, 90, 99, 108, 117, 126, 135, 144]\n",
      "\n",
      "The list of numbers divisible by 10 in range of 0 to 151 is :\n",
      "[0, 10, 20, 30, 40, 50, 60, 70, 80, 90, 100, 110, 120, 130, 140, 150]\n"
     ]
    }
   ],
   "source": [
    "lst4 = [] ; lst8 = [] ; lst10 = [] ; lst3 = [] ; lst5 = [] ; lst6 = [] ; lst7 = [] ; lst9 = []\n",
    "for i in range(0,151):\n",
    "    if i % 3 == 0:\n",
    "        lst3.append(i)\n",
    "    if i % 4 == 0:\n",
    "        lst4.append(i)\n",
    "    if i % 5 == 0:\n",
    "        lst5.append(i)\n",
    "    if i % 6 == 0:\n",
    "        lst6.append(i)\n",
    "    if i % 7 == 0:\n",
    "        lst7.append(i)\n",
    "    if i % 8 == 0:\n",
    "        lst8.append(i)\n",
    "    if i % 9 == 0:\n",
    "        lst9.append(i)\n",
    "    if i % 10 == 0:\n",
    "        lst10.append(i)\n",
    "print(f\"The list of numbers divisible by 3 in range of 0 to 151 is :\\n{lst3}\")\n",
    "print(f\"\\nThe list of numbers divisible by 4 in range of 0 to 151 is :\\n{lst4}\")\n",
    "print(f\"\\nThe list of numbers divisible by 5 in range of 0 to 151 is :\\n{lst5}\")\n",
    "print(f\"\\nThe list of numbers divisible by 6 in range of 0 to 151 is :\\n{lst6}\")\n",
    "print(f\"\\nThe list of numbers divisible by 7 in range of 0 to 151 is :\\n{lst7}\")\n",
    "print(f\"\\nThe list of numbers divisible by 8 in range of 0 to 151 is :\\n{lst8}\")\n",
    "print(f\"\\nThe list of numbers divisible by 9 in range of 0 to 151 is :\\n{lst9}\")\n",
    "print(f\"\\nThe list of numbers divisible by 10 in range of 0 to 151 is :\\n{lst10}\")"
   ]
  },
  {
   "cell_type": "markdown",
   "id": "3d8fce08",
   "metadata": {},
   "source": [
    "### From a list containing ints, strings, and floats, make three lists to store them separately."
   ]
  },
  {
   "cell_type": "code",
   "execution_count": 1,
   "id": "cbaeaaf8",
   "metadata": {},
   "outputs": [
    {
     "name": "stdout",
     "output_type": "stream",
     "text": [
      "Given list is : [5.6, 23, 'Sagar', 'Kale', 2.0, 65, 'Mansingh', 87, 100.02, 'Kadam']\n",
      "Integers in given list are : [23, 65, 87]\n",
      "Floats in given list are : [5.6, 2.0, 100.02]\n",
      "Strings in given list are : ['Sagar', 'Kale', 'Mansingh', 'Kadam']\n"
     ]
    }
   ],
   "source": [
    "#lst = input(\"Enter string, integer and float element in list separated by space: \").split()\n",
    "lst = [5.6, 23, 'Sagar', 'Kale', 2.0, 65, 'Mansingh' , 87, 100.02, 'Kadam']\n",
    "Strlist = [] ; Intlist = [] ; Floatlist = []\n",
    "for i in range(len(lst)):\n",
    "    if type(lst[i]) == int:\n",
    "        Intlist.append(lst[i])\n",
    "    elif type(lst[i]) == float:\n",
    "        Floatlist.append(lst[i])\n",
    "    elif type(lst[i]) == str:\n",
    "        Strlist.append(lst[i])\n",
    "print(f\"Given list is : {lst}\")\n",
    "print(f\"Integers in given list are : {Intlist}\")\n",
    "print(f\"Floats in given list are : {Floatlist}\")\n",
    "print(f\"Strings in given list are : {Strlist}\")"
   ]
  },
  {
   "cell_type": "markdown",
   "id": "075f648d",
   "metadata": {},
   "source": [
    "### What’s The Difference Between The Python append() and extend() Methods?"
   ]
  },
  {
   "cell_type": "code",
   "execution_count": null,
   "id": "dd959fe0",
   "metadata": {},
   "outputs": [],
   "source": [
    "- append() method add a single element to the end of the list while extend() method \n",
    "  can add multiple individual elements to the end of the list.\n",
    "- append() takes a single element as argument while extend() takes iterable as argument\n",
    "  such as list, tuple, dictionaries, set, strings etc."
   ]
  },
  {
   "cell_type": "markdown",
   "id": "ba962106",
   "metadata": {},
   "source": [
    "### Write a Python program to append and extend a list to the second list"
   ]
  },
  {
   "cell_type": "code",
   "execution_count": 15,
   "id": "e1dedd92",
   "metadata": {},
   "outputs": [
    {
     "name": "stdout",
     "output_type": "stream",
     "text": [
      "Given two lists are [12, 25, 65, 87] and [6, 5, 7, 3, 9]\n",
      "List 1 after extending with list 2 is [12, 25, 65, 87, 6, 5, 7, 3, 9]\n",
      "List 2 after appending with list 1 is [6, 5, 7, 3, 9, [12, 25, 65, 87, 6, 5, 7, 3, 9]]\n"
     ]
    }
   ],
   "source": [
    "lst1 = [12, 25, 65, 87]\n",
    "lst2 = [6, 5, 7, 3, 9]\n",
    "print(f\"Given two lists are {lst1} and {lst2}\")  \n",
    "lst1.extend(lst2)                                                     # List extend() method\n",
    "print(f\"List 1 after extending with list 2 is {lst1}\")\n",
    "lst2.append(lst1)                                                     # List append() method\n",
    "print(f\"List 2 after appending with list 1 is {lst2}\")"
   ]
  },
  {
   "cell_type": "markdown",
   "id": "4adc4d69",
   "metadata": {},
   "source": [
    "### Write a Python program to find the third-largest number in a list"
   ]
  },
  {
   "cell_type": "code",
   "execution_count": 18,
   "id": "5ccae504",
   "metadata": {},
   "outputs": [
    {
     "name": "stdout",
     "output_type": "stream",
     "text": [
      "Enter numbers in a list sepaated by space : 2 36 65 47 5 9 8 74 56\n",
      "The given list is : [2, 36, 65, 47, 5, 9, 8, 74, 56]\n",
      "The third highest element in a list is : 56\n"
     ]
    }
   ],
   "source": [
    "lst = list(map(int,input(\"Enter numbers in a list sepaated by space : \").split()))\n",
    "print(f\"The given list is : {lst}\")\n",
    "lst.sort()\n",
    "print(f\"The third highest element in a list is : {lst[-3]}\")"
   ]
  },
  {
   "cell_type": "markdown",
   "id": "30b470f8",
   "metadata": {},
   "source": [
    "### Write a Python program to get the frequency of the elements in a list."
   ]
  },
  {
   "cell_type": "code",
   "execution_count": 20,
   "id": "384b3a6d",
   "metadata": {},
   "outputs": [
    {
     "name": "stdout",
     "output_type": "stream",
     "text": [
      "Eneter numbers in a list separated by space: 2 3 6 4 7 8 9 5 3 2 56 2 6 5 4 7 3\n",
      "Enter a number to check its frequency in a list : 2\n",
      "Frequency of 2 in given list [2, 3, 6, 4, 7, 8, 9, 5, 3, 2, 56, 2, 6, 5, 4, 7, 3] is 3\n"
     ]
    }
   ],
   "source": [
    "lst = list(map(int,input(\"Eneter numbers in a list separated by space: \").split()))\n",
    "num = int(input(\"Enter a number to check its frequency in a list : \"))\n",
    "if num in lst:\n",
    "    frequency = lst.count(num)\n",
    "    print(f\"Frequency of {num} in given list {lst} is {frequency}\")\n",
    "else:\n",
    "    print(f\"The number {num} is not present in a list {lst}.\")"
   ]
  },
  {
   "cell_type": "markdown",
   "id": "c2db7178",
   "metadata": {},
   "source": [
    "### Write a Python program to check whether a list contains a sublist"
   ]
  },
  {
   "cell_type": "code",
   "execution_count": 26,
   "id": "353c31c3",
   "metadata": {},
   "outputs": [
    {
     "name": "stdout",
     "output_type": "stream",
     "text": [
      "Enter the numbers in list separated by space: 1 2 3 4 5 6 7 8\n",
      "Enter the number in sublist separated by space: 2 3 4\n",
      "[2, 3, 4] is sublist of [1, 2, 3, 4, 5, 6, 7, 8]\n"
     ]
    }
   ],
   "source": [
    "lst = list(map(int,input(\"Enter the numbers in list separated by space: \").split()))\n",
    "sublst = list(map(int,input(\"Enter the number in sublist separated by space: \").split()))\n",
    "\n",
    "def Is_Sublist(lst, sublst):\n",
    "    Subset = False\n",
    "    \n",
    "    if sublst == []:\n",
    "        Subset = True\n",
    "    elif sublst == lst:\n",
    "        Subset = True\n",
    "    elif len(sublst) > len(lst):\n",
    "        Subset = False\n",
    "    else:\n",
    "        for i in range(len(lst)):\n",
    "            if lst[i] == sublst[0]:\n",
    "                n = 1\n",
    "                while (n < len(sublst)) and (lst[i+n] == sublst[n]):\n",
    "                    n += 1\n",
    "                if n == len(sublst):\n",
    "                    Subset = True\n",
    "    return Subset\n",
    "                    \n",
    "if(Is_Sublist(lst,sublst)):\n",
    "    print(f\"{sublst} is sublist of {lst}\")\n",
    "else:\n",
    "    print(f\"{sublst} is not sublist of {lst}\")"
   ]
  },
  {
   "cell_type": "markdown",
   "id": "5e0669dc",
   "metadata": {},
   "source": [
    "### Write a Python program to find common items from two lists"
   ]
  },
  {
   "cell_type": "code",
   "execution_count": 4,
   "id": "f140b5fd",
   "metadata": {},
   "outputs": [
    {
     "name": "stdout",
     "output_type": "stream",
     "text": [
      "Enter numbers of first list separated by space: 1 2 3 4 5 6 7 8 9\n",
      "Enter numbers of second list separated by space: 2 4 6 8 10 12 14 16\n",
      "List 1 is : [1, 2, 3, 4, 5, 6, 7, 8, 9]\n",
      "List 2 is : [2, 4, 6, 8, 10, 12, 14, 16]\n",
      "Common elements in lists are : [2, 4, 6, 8]\n"
     ]
    }
   ],
   "source": [
    "lst1 = list(map(int,input(\"Enter numbers of first list separated by space: \").split()))\n",
    "lst2 = list(map(int,input(\"Enter numbers of second list separated by space: \").split()))\n",
    "lst3 = [num1 for num1 in lst1 for num2 in lst2 if num1==num2]\n",
    "print(f\"List 1 is : {lst1}\\nList 2 is : {lst2}\\nCommon elements in lists are : {lst3}\")"
   ]
  },
  {
   "cell_type": "markdown",
   "id": "232e70ff",
   "metadata": {},
   "source": [
    "### How to flatten a list in python?"
   ]
  },
  {
   "cell_type": "code",
   "execution_count": null,
   "id": "3b27a5f7",
   "metadata": {},
   "outputs": [],
   "source": [
    "Flattening lists in python means converting multidimensional lists into one-dimensional lists. \n",
    "It is basically a method of merging all the sublists of a nested list into one unified list. \n",
    "For example, the flattened list of the nested list Y = [[1, 2, 3], [4, 5, 6], [7, 8, 9]] \n",
    "is given as Y = [1, 2, 3, 4, 5, 6, 7, 8, 9]"
   ]
  },
  {
   "cell_type": "code",
   "execution_count": 1,
   "id": "67ae2659",
   "metadata": {},
   "outputs": [
    {
     "name": "stdout",
     "output_type": "stream",
     "text": [
      "[1, 2, 3, 7, 8, 9, 'Python', 'Data', 'Science', 32, 'Machine', 52, 'Learning', 23, 45]\n"
     ]
    }
   ],
   "source": [
    "Y = [[1, 2, 3], [7, 8, 9], \"Python\", (\"Data\", \"Science\"), {23,32,52,45,\"Machine\",\"Learning\"}]\n",
    "l1 = []\n",
    "for i in range(len(Y)):\n",
    "    if type(Y[i]) is str:\n",
    "        l1.append(Y[i])\n",
    "    else:\n",
    "        l1.extend(Y[i])\n",
    "print(l1)"
   ]
  },
  {
   "cell_type": "markdown",
   "id": "7fb22acf",
   "metadata": {},
   "source": [
    "### How to sort a list in ascending and descending order without using the sort function?"
   ]
  },
  {
   "cell_type": "code",
   "execution_count": 11,
   "id": "bfb44b09",
   "metadata": {},
   "outputs": [
    {
     "name": "stdout",
     "output_type": "stream",
     "text": [
      "Enter random numbers in a list: 9 2 4 2 3 6 7 5 11 23 56 84 2 1 30 65\n",
      "Given list is : [9, 2, 4, 2, 3, 6, 7, 5, 11, 23, 56, 84, 2, 1, 30, 65]\n",
      "List in ascending order is : [1, 2, 2, 2, 3, 4, 5, 6, 7, 9, 11, 23, 30, 56, 65, 84]\n",
      "List in descending order is : [84, 65, 56, 30, 23, 11, 9, 7, 6, 5, 4, 3, 2, 2, 2, 1]\n"
     ]
    }
   ],
   "source": [
    "lst = list(map(int,input(\"Enter random numbers in a list: \").split()))\n",
    "print(f\"Given list is : {lst}\")\n",
    "\n",
    "for i in range(len(lst)):\n",
    "    for j in range(len(lst)):\n",
    "        if lst[i] < lst[j]:\n",
    "            lst[i], lst[j] = lst[j], lst[i]\n",
    "print(f\"List in ascending order is : {lst}\")\n",
    "\n",
    "for i in range(len(lst)):\n",
    "    for j in range(len(lst)):\n",
    "        if lst[i] > lst[j]:\n",
    "            lst[i], lst[j] = lst[j], lst[i]\n",
    "print(f\"List in descending order is : {lst}\")\n",
    "\n",
    "# Using sort() function\n",
    "# lst.sort()\n",
    "# print(f\"List in ascending order is : {lst}\\nList in descending order is :{lst[::-1]}\")"
   ]
  },
  {
   "cell_type": "markdown",
   "id": "e5ee232e",
   "metadata": {},
   "source": [
    "### How to sort a tuple?"
   ]
  },
  {
   "cell_type": "code",
   "execution_count": 15,
   "id": "1a48613c",
   "metadata": {},
   "outputs": [
    {
     "name": "stdout",
     "output_type": "stream",
     "text": [
      "Enter the elements of tuple separated by comma : 3 4 10 1 9 5 8 16 7 1 6 2 0\n",
      "Given tuple is (3, 4, 10, 1, 9, 5, 8, 16, 7, 1, 6, 2, 0) and sorted tuple is (0, 1, 1, 2, 3, 4, 5, 6, 7, 8, 9, 10, 16).\n"
     ]
    }
   ],
   "source": [
    "# We can sort tuple using built-in function sorted()\n",
    "\n",
    "tuple1 = tuple(map(int,input(\"Enter the elements of tuple separated by comma : \").split()))\n",
    "sorted_tuple = tuple(sorted(tuple1))\n",
    "print(f\"Given tuple is {tuple1} and sorted tuple is {sorted_tuple}.\")"
   ]
  },
  {
   "cell_type": "markdown",
   "id": "b0496705",
   "metadata": {},
   "source": [
    "### Write a Python program to convert a list of multiple integers into a single integer\n",
    "Example. [11, 33, 50]  >>>  113350"
   ]
  },
  {
   "cell_type": "code",
   "execution_count": 21,
   "id": "4b39d44e",
   "metadata": {},
   "outputs": [
    {
     "name": "stdout",
     "output_type": "stream",
     "text": [
      "Enter numbers in a list: 11 33 50\n",
      "Given list is [11, 33, 50] and integers into single integer is 113350\n"
     ]
    }
   ],
   "source": [
    "Number_list = list(map(int,input(\"Enter numbers in a list: \").split()))\n",
    "Single_Integer = \"\"\n",
    "for num in Number_list:\n",
    "    Single_Integer = Single_Integer + str(num)\n",
    "print(f\"Given list is {Number_list} and integers into single integer is {int(Single_Integer)}\")"
   ]
  },
  {
   "cell_type": "markdown",
   "id": "16bd9dda",
   "metadata": {},
   "source": [
    "### Difference between del and clear?"
   ]
  },
  {
   "cell_type": "code",
   "execution_count": null,
   "id": "b73493e2",
   "metadata": {},
   "outputs": [],
   "source": [
    "To remove items by index or slice we can use the del method in python.\n",
    "We can also remove elements from a list with del statements. \n",
    "Syntax: del list[index]  or del list\n",
    "    \n",
    "\n",
    "clear() method in python is used to empty the entire list.\n",
    "Syntax: list.clear()"
   ]
  },
  {
   "cell_type": "markdown",
   "id": "8989e7c2",
   "metadata": {},
   "source": [
    "### Difference between remove and pop?"
   ]
  },
  {
   "cell_type": "code",
   "execution_count": null,
   "id": "2ae7e6fd",
   "metadata": {},
   "outputs": [],
   "source": [
    "remove() is an inbuilt function in Python programming language that removes a \n",
    "given object from the list. It removes the object from the list. It does not return any value.\n",
    "It removes the first occurrence of the object from the list. It does not deal with the index.\n",
    "Syntax:  list.remove(object) \n",
    "    \n",
    "\n",
    "The pop() method removes the item at the given index from the list and returns  the removed item.\n",
    "It takes a single argument(index)\n",
    "If the argument is not passed then by default it removes the last element that is a list[-1]\n",
    "If the index passed to the method is not in range then it throws Index \n",
    "Error: pop index out of range exception.\n",
    "Syntax: list.pop(index)"
   ]
  },
  {
   "cell_type": "markdown",
   "id": "daf36654",
   "metadata": {},
   "source": [
    "### Difference between indexing and Slicing?"
   ]
  },
  {
   "cell_type": "code",
   "execution_count": null,
   "id": "ddc94034",
   "metadata": {},
   "outputs": [],
   "source": [
    "Indexing means referring to an element of an iterable by its position within the iterable.\n",
    "Each of a string’s characters corresponds to an index number and each character can be \n",
    "accessed using its index number. We can access characters in a String in Two ways:\n",
    "Accessing Characters by Positive Index Number\n",
    "Accessing Characters by Negative Index Number\n",
    "\n",
    "\n",
    "Slicing in Python is a feature that enables accessing parts of the sequence. In slicing \n",
    "a string, we create a substring, which is essentially a string that exists within another\n",
    "string. We use slicing when we require a part of the string and not the complete string.\n",
    "Syntax: string[start : end : step]\n",
    "\n",
    "\n",
    "Indexing is used to obtain individual elements. Slicing: Slicing is used to obtain a \n",
    "sequence of elements. Indexing and Slicing can be be done in Python Sequences types \n",
    "like list, string, tuple, range objects."
   ]
  },
  {
   "cell_type": "markdown",
   "id": "f63e5bb6",
   "metadata": {},
   "source": [
    "### Difference between sort and sorted?"
   ]
  },
  {
   "cell_type": "code",
   "execution_count": null,
   "id": "b504cc7e",
   "metadata": {},
   "outputs": [],
   "source": [
    "sorted() method sorts the given sequence as well as set and dictionary(which is not a sequence)\n",
    "either in ascending order or in descending order(does unicode comparison for string char by char)\n",
    "and always returns the a sorted list. This method doesn’t effect the original sequence.\n",
    "\n",
    "\n",
    "sort() function is very similar to sorted() but unlike sorted it returns nothing and makes \n",
    "changes to the original sequence. Moreover, sort() is a method of list class and \n",
    "can only be used with lists\n",
    "\n",
    "\n",
    "The main difference between the sort() function and the sorted() function is that the sort() function\n",
    "will modify the list it is called on. The sorted() function will create a new sequence type \n",
    "containing a sorted version of the sequence it is given."
   ]
  },
  {
   "cell_type": "markdown",
   "id": "01ffac6a",
   "metadata": {},
   "source": [
    "### Difference between reverse and reversed?"
   ]
  },
  {
   "cell_type": "code",
   "execution_count": null,
   "id": "112e841b",
   "metadata": {},
   "outputs": [],
   "source": [
    "_list.reverse() modifies the list itself, whereas reversed(_list) returns an iterator ready \n",
    "to traverse the list in reversed order.\n",
    "\n",
    "\n",
    "The reverse() method edits the list to be in a reversed order. However, reversed() method \n",
    "takes a list and returns an iterator of it in reverse order.\n",
    "L = [1,2,3,4,5,6,7,8,9,10]\n",
    "L.reverse()\n",
    "\n",
    "L = [1,2,3,4,5,6,7,8,9,10]\n",
    "a=reversed(L)\n",
    "a=list(a)"
   ]
  },
  {
   "cell_type": "markdown",
   "id": "32a96ce4",
   "metadata": {},
   "source": [
    "### Difference between copy and deep copy?"
   ]
  },
  {
   "cell_type": "code",
   "execution_count": null,
   "id": "ae2ed455",
   "metadata": {},
   "outputs": [],
   "source": [
    ".copy() create reference to original object. If you change copied object - you change \n",
    "the original object. .deepcopy() creates new object and does real copying of original\n",
    "object to new one. Changing new deepcopied object doesn't affect original object.\n",
    "\n",
    "A shallow copy constructs a new compound object and then (to the extent possible) \n",
    "inserts references into it to the objects found in the original.\n",
    "A deep copy constructs a new compound object and then, recursively, inserts copies \n",
    "into it of the objects found in the original.\n",
    "\n",
    "Shallow copy, when two objects are copied via shallow copy, the child object of both \n",
    "parent object refers to same memory location but any further new changes in any of the\n",
    "copied object will be independent to each other.\n",
    "Deep copy helps in creating completely isolated objects out of each other. If two objects \n",
    "are copied via Deep Copy then both parent & it’s child will be pointing to different memory location."
   ]
  },
  {
   "cell_type": "markdown",
   "id": "911a9231",
   "metadata": {},
   "source": [
    "### How to check whether the list is empty or not?"
   ]
  },
  {
   "cell_type": "code",
   "execution_count": 22,
   "id": "b1213a4f",
   "metadata": {},
   "outputs": [
    {
     "name": "stdout",
     "output_type": "stream",
     "text": [
      "List is empty.\n"
     ]
    }
   ],
   "source": [
    "List1 = []\n",
    "print(\"List is empty.\") if len(List1) == 0 else print(\"List is not empty.\")"
   ]
  },
  {
   "cell_type": "markdown",
   "id": "9304f5f2",
   "metadata": {},
   "source": [
    "### How to concatenate two lists?"
   ]
  },
  {
   "cell_type": "code",
   "execution_count": 24,
   "id": "20f53c26",
   "metadata": {},
   "outputs": [
    {
     "name": "stdout",
     "output_type": "stream",
     "text": [
      "Given lists are [1, 2, 3, 4, 5] and [10, 20, 30, 40, 50]\n",
      "List concatenation using + operator is [1, 2, 3, 4, 5, 10, 20, 30, 40, 50]\n",
      "List concatenation using extend() function is [1, 2, 3, 4, 5, 10, 20, 30, 40, 50]\n"
     ]
    }
   ],
   "source": [
    "# List concatenation can be done by using + operator or by using extend() function\n",
    "List1 = [1, 2, 3, 4, 5]\n",
    "List2 = [10, 20, 30, 40, 50]\n",
    "print(f\"Given lists are {List1} and {List2}\")\n",
    "print(f\"List concatenation using + operator is {List1 + List2}\")\n",
    "List1.extend(List2)\n",
    "print(f\"List concatenation using extend() function is {List1}\")"
   ]
  },
  {
   "cell_type": "markdown",
   "id": "ce6971c5",
   "metadata": {},
   "source": [
    "### How to find the occurrences of an element in the python list?"
   ]
  },
  {
   "cell_type": "code",
   "execution_count": 25,
   "id": "fbd5713b",
   "metadata": {},
   "outputs": [
    {
     "name": "stdout",
     "output_type": "stream",
     "text": [
      "Eneter numbers in a list separated by space: 1 3 4 10 1 9 5 8 16 7 1 6 2 0\n",
      "Enter a number to check its count in a list : 1\n",
      "Count of 1 in given list [1, 3, 4, 10, 1, 9, 5, 8, 16, 7, 1, 6, 2, 0] is 3\n"
     ]
    }
   ],
   "source": [
    "lst = list(map(int,input(\"Eneter numbers in a list separated by space: \").split()))\n",
    "num = int(input(\"Enter a number to check its count in a list : \"))\n",
    "if num in lst:\n",
    "    frequency = lst.count(num)\n",
    "    print(f\"Count of {num} in given list {lst} is {frequency}\")\n",
    "else:\n",
    "    print(f\"The number {num} is not present in a list {lst}.\")"
   ]
  }
 ],
 "metadata": {
  "kernelspec": {
   "display_name": "Python 3 (ipykernel)",
   "language": "python",
   "name": "python3"
  },
  "language_info": {
   "codemirror_mode": {
    "name": "ipython",
    "version": 3
   },
   "file_extension": ".py",
   "mimetype": "text/x-python",
   "name": "python",
   "nbconvert_exporter": "python",
   "pygments_lexer": "ipython3",
   "version": "3.9.12"
  }
 },
 "nbformat": 4,
 "nbformat_minor": 5
}

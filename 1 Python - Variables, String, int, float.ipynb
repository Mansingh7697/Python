{
 "cells": [
  {
   "cell_type": "markdown",
   "id": "30528fa8",
   "metadata": {},
   "source": [
    "### What are the key features of Python?"
   ]
  },
  {
   "cell_type": "markdown",
   "id": "ce819a2a",
   "metadata": {},
   "source": [
    "Following are the key features of of Python:\n",
    "    1. Easy to learn and use.\n",
    "    2. Expressive language.\n",
    "    3. Interpreted Language.\n",
    "    4. Cross-platform language.\n",
    "    5. Free and open source.\n",
    "    6. Object oriented language.\n",
    "    7. Extensible.\n",
    "    8. Large standard library.\n",
    "    9. GUI programming support.\n",
    "    10. Integrated.\n",
    "    11. Embeddable.\n",
    "    12. Dynamic Memory allocation."
   ]
  },
  {
   "cell_type": "markdown",
   "id": "1af508b1",
   "metadata": {},
   "source": [
    "### What are the Data Types in Python?"
   ]
  },
  {
   "cell_type": "code",
   "execution_count": null,
   "id": "a1ddd3ec",
   "metadata": {},
   "outputs": [],
   "source": [
    "Python has following data types:\n",
    "    1. Numeric data types: Integers (int), float, Complex (complex)\n",
    "    2. Text Type: String (str)\n",
    "    3. Sequence data types: Range (range), List (list), Tuple (tuple)\n",
    "    3. Boolean data types: bool (True, False) \n",
    "    4. Set Types: set, frozenset\n",
    "    5. Mapping Type: Dictionary (dict)\n",
    "    6. Binary Types: Bytes (bytes), Bytearray (bytearray), Memoryview (memoryview)\n",
    "    7. None Type: None"
   ]
  },
  {
   "cell_type": "markdown",
   "id": "9dfb58c0",
   "metadata": {},
   "source": [
    "### What are local variables and global variables in Python?"
   ]
  },
  {
   "cell_type": "markdown",
   "id": "ec1bf0d6",
   "metadata": {},
   "source": [
    "Local Variables:\n",
    "    1. Local variables are those which are initialized inside a function and belongs \n",
    "       only to that particular function. \n",
    "    2. It cannot be accessed anywhere outside the function.\n",
    "    \n",
    "Global Variables:\n",
    "    1. The global variables are those which are defined outside any function and which\n",
    "       are accessible throughout the program i.e. inside and outside of every function."
   ]
  },
  {
   "cell_type": "markdown",
   "id": "fecbb4fd",
   "metadata": {},
   "source": [
    "### How do you write comments in python? And Why Comments are important?"
   ]
  },
  {
   "cell_type": "code",
   "execution_count": null,
   "id": "7c7df216",
   "metadata": {},
   "outputs": [],
   "source": [
    "Different ways to write comments in python:\n",
    "    1. Hash operator (#) at the begining of line or Triple quotes (\"\"\" Comment \"\"\") \n",
    "       for single line comment. \n",
    "    2. Hash operator (#) at the begining of every line or Triple quotes (\"\"\" Commenting lines \"\"\")\n",
    "       for multiple line comments.\n",
    "    \n",
    "Comments are important in python because:\n",
    "    1. Comments used to document the code when necesaary. \n",
    "    2. It helps to make programs more readable. \n",
    "    3. It is very important when programming projects are collaborating with others."
   ]
  },
  {
   "cell_type": "markdown",
   "id": "efcb1206",
   "metadata": {},
   "source": [
    "### How to comment on multiple lines in python?"
   ]
  },
  {
   "cell_type": "code",
   "execution_count": null,
   "id": "8010da9b",
   "metadata": {},
   "outputs": [],
   "source": [
    "We can use Hash operator at the begining of every line (# operator)\n",
    "Triple quotes (\"\"\" Commenting lines \"\"\") for multiple line comments in python."
   ]
  },
  {
   "cell_type": "markdown",
   "id": "1b31c3ec",
   "metadata": {},
   "source": [
    "### What do you mean by Python literals?"
   ]
  },
  {
   "cell_type": "code",
   "execution_count": null,
   "id": "fddd2549",
   "metadata": {},
   "outputs": [],
   "source": [
    "1. Literals in Python is defined as the raw data assigned to variables or \n",
    "   constants while programming. \n",
    "2. We mainly have five types of literals which includes string literals, \n",
    "   numeric literals, boolean literals, literal collections and a special literal None."
   ]
  },
  {
   "cell_type": "markdown",
   "id": "67f9e734",
   "metadata": {},
   "source": [
    "### What are different ways to assign value to variables?"
   ]
  },
  {
   "cell_type": "code",
   "execution_count": null,
   "id": "6d4ee02d",
   "metadata": {},
   "outputs": [],
   "source": [
    "We can directly declare the varibale and assign the value to it using assignment operator (=).\n",
    "\n",
    "The diiferent ways to assign a value to varibles are as follows:\n",
    " a = 10  # variable is declared and assigned value 10 to it.\n",
    " a = 10; b = 20; c = 30 # Three varibale declared and assigned values to them in single line.\n",
    " a, b, c = 10, 20, 30 # Three varibale declared and assigned values to them in single line (another way)\n",
    " d = a + b # Assigning addition to variable d"
   ]
  },
  {
   "cell_type": "markdown",
   "id": "1c06edf4",
   "metadata": {},
   "source": [
    "### What are the Escape Characters in python?"
   ]
  },
  {
   "cell_type": "code",
   "execution_count": null,
   "id": "06ace10b",
   "metadata": {},
   "outputs": [],
   "source": [
    "1. In Python strings, the backslash \"\\\" is a special character, also called the \n",
    "   \"escape\" character.\n",
    "2. To insert characters that are illegal in a string(such as quote within quote),\n",
    "   we use an escape character.\n",
    "3. An escape character is a backslash \\ followed by the character you want to insert.\n",
    "For example:\n",
    "    \\'   for single quote\n",
    "    \\\\   for backslash\n",
    "    \\n   for new line\n",
    "    \\r   for carriage return\n",
    "    \\t   for tab"
   ]
  },
  {
   "cell_type": "markdown",
   "id": "4399ae87",
   "metadata": {},
   "source": [
    "### Which are the different ways to perform string formatting? Explain with example."
   ]
  },
  {
   "cell_type": "code",
   "execution_count": null,
   "id": "0aa889a5",
   "metadata": {},
   "outputs": [],
   "source": [
    "1. String formatting is the process of infusing things in the string dynamically and \n",
    "   presenting the string. \n",
    "2. There are four different ways to perform string formatting:\n",
    "    \n",
    "    1. Formatting with % Operator:\n",
    "        print('There are %d dogs.' %4)   # Output: There are 4 dogs.\n",
    "        \n",
    "    2. Formatting with .format() string method:\n",
    "        print('We all are {}.'.format('equal'))  # Output: We all are equal.\n",
    "        \n",
    "    3. Formatting with string literals, called f-strings:\n",
    "        name = 'Mansingh'\n",
    "        print(f\"My name is {name}.\")   # Output: My name is Mansingh."
   ]
  },
  {
   "cell_type": "markdown",
   "id": "15c352eb",
   "metadata": {},
   "source": [
    "### Write a program to print every character of a string entered by the user in a new line using a loop."
   ]
  },
  {
   "cell_type": "code",
   "execution_count": 1,
   "id": "1a7e2a58",
   "metadata": {},
   "outputs": [
    {
     "name": "stdout",
     "output_type": "stream",
     "text": [
      "Enter a stringPython\n",
      "P\n",
      "y\n",
      "t\n",
      "h\n",
      "o\n",
      "n\n"
     ]
    }
   ],
   "source": [
    "str1 = input(\"Enter a string\")\n",
    "for char in str1:\n",
    "    print(char)"
   ]
  },
  {
   "cell_type": "markdown",
   "id": "da91b717",
   "metadata": {},
   "source": [
    "### Write a program to find the length of the string \"machine learning\" with and without using len function."
   ]
  },
  {
   "cell_type": "code",
   "execution_count": 2,
   "id": "af8638cf",
   "metadata": {},
   "outputs": [
    {
     "name": "stdout",
     "output_type": "stream",
     "text": [
      "Enter a string: Machine Learning\n",
      "Length of a string using len function : 16\n",
      "Length of a string without using len function: 16\n"
     ]
    }
   ],
   "source": [
    "str2 = input(\"Enter a string: \")\n",
    "print(\"Length of a string using len function :\",len(str2))\n",
    "i = 0\n",
    "for char in str2:\n",
    "    i += 1\n",
    "print(\"Length of a string without using len function:\", i)"
   ]
  },
  {
   "cell_type": "markdown",
   "id": "8f7140ee",
   "metadata": {},
   "source": [
    "### Write a program to remove repeated word from Sentence. "
   ]
  },
  {
   "cell_type": "code",
   "execution_count": 10,
   "id": "e347e091",
   "metadata": {},
   "outputs": [
    {
     "name": "stdout",
     "output_type": "stream",
     "text": [
      "Geeks for\n",
      "Geeks for\n",
      "Geeks for\n"
     ]
    }
   ],
   "source": [
    "str1 = \"Geeks for Geeks\"\n",
    "lst1 = str1.split()\n",
    "\n",
    "unique_lst = list(set(lst1))\n",
    "str2 = \" \".join(unique_lst)          #using set function as set() not allows duplicate values\n",
    "print(str2)\n",
    "\n",
    "unique_lst = []\n",
    "for x in lst1:                                 #using for loop and if condition\n",
    "    if x not in unique_lst:\n",
    "        unique_lst.append(x)\n",
    "str2 = \" \".join(unique_lst)\n",
    "print(str2)\n",
    "\n",
    "unique_lst = []\n",
    "[unique_lst.append(x) for x in lst1 if x not in unique_lst]   #using list comprehension [expression for item in iterable if condition == True]\n",
    "str2 = \" \".join(unique_lst)\n",
    "print(str2)\n",
    "\n"
   ]
  },
  {
   "cell_type": "markdown",
   "id": "59feffb7",
   "metadata": {},
   "source": [
    "### Write a program to check if the word 'orange' is present in the \"This is orange juice\"."
   ]
  },
  {
   "cell_type": "code",
   "execution_count": 4,
   "id": "c61f854b",
   "metadata": {},
   "outputs": [
    {
     "name": "stdout",
     "output_type": "stream",
     "text": [
      "The word orange is present in given string 'This is orange juice'\n",
      "The word orange is present in given string 'This is orange juice' and it is at 8 index\n"
     ]
    }
   ],
   "source": [
    "#Using if else condition\n",
    "str1 = \"This is orange juice\"\n",
    "if 'orange' in str1:\n",
    "    print(\"The word orange is present in given string 'This is orange juice'\")\n",
    "else:\n",
    "    print(\"The word orange is Not present in given string 'This is orange juice'\")\n",
    "    \n",
    "#using string function\n",
    "str1 = \"This is orange juice\"\n",
    "n = str1.find('orange')\n",
    "if n != -1:\n",
    "    print(\"The word orange is present in given string 'This is orange juice' and it is at\",n,\"index\")\n",
    "else:\n",
    "    print(\"The word orange is Not present in given string 'This is orange juice'\")"
   ]
  },
  {
   "cell_type": "markdown",
   "id": "1f6cc982",
   "metadata": {},
   "source": [
    "### Write a program to make a new string with all the consonants deleted from the string \"Hello, have a good day\"."
   ]
  },
  {
   "cell_type": "code",
   "execution_count": 5,
   "id": "9754030a",
   "metadata": {},
   "outputs": [
    {
     "name": "stdout",
     "output_type": "stream",
     "text": [
      "eo, ae a oo a\n"
     ]
    }
   ],
   "source": [
    "str1 = \"Hello, have a good day\"\n",
    "newString = ''\n",
    "for char in str1:\n",
    "    if char in 'aeiouAEIOU, ':\n",
    "        newString = newString + char\n",
    "print(newString)"
   ]
  },
  {
   "cell_type": "markdown",
   "id": "ea442aff",
   "metadata": {},
   "source": [
    "### Write a program to make a new string with all the Vowels deleted from the string \"Hello, have a good day\"."
   ]
  },
  {
   "cell_type": "code",
   "execution_count": 6,
   "id": "f51d30a5",
   "metadata": {},
   "outputs": [
    {
     "name": "stdout",
     "output_type": "stream",
     "text": [
      "Hll, hv  gd dy\n"
     ]
    }
   ],
   "source": [
    "str1 = \"Hello, have a good day\"\n",
    "newString = ''\n",
    "for char in str1:\n",
    "    if char not in 'aeiouAEIOU':\n",
    "        newString = newString + char\n",
    "print(newString)"
   ]
  },
  {
   "cell_type": "markdown",
   "id": "f1959839",
   "metadata": {},
   "source": [
    "### Write a Python program to remove the nth index character from a non-empty string."
   ]
  },
  {
   "cell_type": "code",
   "execution_count": 7,
   "id": "d975fe77",
   "metadata": {},
   "outputs": [
    {
     "name": "stdout",
     "output_type": "stream",
     "text": [
      "Enter a non empty string: Hello Sagar Kale\n",
      "Enter an index number you want to remove: 6\n",
      "Hello agar Kale\n"
     ]
    }
   ],
   "source": [
    "#Using if else statement\n",
    "str1 = input(\"Enter a non empty string: \")\n",
    "n = int(input(\"Enter an index number you want to remove: \"))\n",
    "newStr = ''\n",
    "for i in range(len(str1)):\n",
    "    if i == n:\n",
    "        continue;\n",
    "    else:\n",
    "        newStr = newStr + str1[i]\n",
    "print(newStr)"
   ]
  },
  {
   "cell_type": "code",
   "execution_count": 8,
   "id": "5d1b42d9",
   "metadata": {},
   "outputs": [
    {
     "name": "stdout",
     "output_type": "stream",
     "text": [
      "Enter a non empty string: Hello Sagar Kale\n",
      "Enter an index number you want to remove: 21\n",
      "You Entered index number more than given string length. i.e. index out of range.\n"
     ]
    }
   ],
   "source": [
    "#Using string replace function\n",
    "str1 = input(\"Enter a non empty string: \")\n",
    "n = int(input(\"Enter an index number you want to remove: \"))\n",
    "\n",
    "if len(str1) < n:\n",
    "    print(\"You Entered index number more than given string length. i.e. index out of range.\")\n",
    "else:\n",
    "    char = input(\"Enter a character you want to add: \")\n",
    "    newStr = str1.replace(str1[n], char)\n",
    "    print(newStr)"
   ]
  },
  {
   "cell_type": "markdown",
   "id": "88229711",
   "metadata": {},
   "source": [
    "### Write a Python program to change a given string to a new string where the first and last characters have been exchanged."
   ]
  },
  {
   "cell_type": "code",
   "execution_count": 9,
   "id": "789b02d3",
   "metadata": {},
   "outputs": [
    {
     "name": "stdout",
     "output_type": "stream",
     "text": [
      "Enter a String.Hello Sagar Kale\n",
      "String after exchanging first and last character in given string is: \n",
      "eello Sagar KalH\n"
     ]
    }
   ],
   "source": [
    "str1 = input(\"Enter a String.\")\n",
    "print(\"String after exchanging first and last character in given string is: \")\n",
    "fchar = str1[0]\n",
    "lchar = str1[-1]\n",
    "mstring = str1[1:-1]\n",
    "newStr = lchar + mstring + fchar\n",
    "print(newStr)"
   ]
  },
  {
   "cell_type": "markdown",
   "id": "ab549d9b",
   "metadata": {},
   "source": [
    "### 15.\tHow do you count the occurrence of a given character in a string?"
   ]
  },
  {
   "cell_type": "code",
   "execution_count": 6,
   "id": "4aa338a6",
   "metadata": {},
   "outputs": [
    {
     "name": "stdout",
     "output_type": "stream",
     "text": [
      "Write a sentence: Python Program\n",
      "Count of each char in given sentence is : \n",
      "{'P': 2, 'y': 1, 'o': 2, 'g': 1, 'a': 1, 'm': 1, ' ': 1, 'n': 1, 't': 1, 'r': 2, 'h': 1}\n"
     ]
    }
   ],
   "source": [
    "str1 = input(\"Write a sentence: \")\n",
    "UniqueWordList = list(set(str1))\n",
    "WordCountDict = {}\n",
    "for i in range(len(UniqueWordList)):\n",
    "    WordCountDict.update({UniqueWordList[i]:str1.count(UniqueWordList[i])})\n",
    "print(\"Count of each char in given sentence is : \")\n",
    "print(WordCountDict)"
   ]
  },
  {
   "cell_type": "code",
   "execution_count": 10,
   "id": "ee1d387c",
   "metadata": {},
   "outputs": [
    {
     "name": "stdout",
     "output_type": "stream",
     "text": [
      "Write a sentence: Python Program\n",
      "Enter a character you want to check occurence in given sentence: o\n",
      "The occurence of o in given sentence is: 2\n"
     ]
    }
   ],
   "source": [
    "str1 = input(\"Write a sentence: \")\n",
    "char = input(\"Enter a character you want to check occurence in given sentence: \")\n",
    "if char in str1:\n",
    "    count = str1.count(char)\n",
    "    print(\"The occurence of\",char,\"in given sentence is:\",count)\n",
    "else:\n",
    "    print(\"Given character is not present in Sentence.\")"
   ]
  },
  {
   "cell_type": "markdown",
   "id": "782d5b1d",
   "metadata": {},
   "source": [
    "### Write a Python program to count the occurrences of each word in a given sentence."
   ]
  },
  {
   "cell_type": "code",
   "execution_count": 13,
   "id": "66f58701",
   "metadata": {},
   "outputs": [
    {
     "name": "stdout",
     "output_type": "stream",
     "text": [
      "Write a sentence: Python program and machine learning Python learning deep learning\n",
      "The occurence of each word in given sentence is:\n",
      "{'learning': 3, 'program': 1, 'deep': 1, 'Python': 2, 'machine': 1, 'and': 1}\n"
     ]
    }
   ],
   "source": [
    "str1 = input(\"Write a sentence: \")\n",
    "WordList = list(set(str1.split()))\n",
    "WordCountDict = {}\n",
    "for i in range(len(WordList)):\n",
    "    WordCountDict.update({WordList[i]:str1.count(WordList[i])})\n",
    "print(\"The occurence of each word in given sentence is:\")\n",
    "print(WordCountDict)"
   ]
  },
  {
   "cell_type": "markdown",
   "id": "629a4c9b",
   "metadata": {},
   "source": [
    "### Write a program to find last 10 characters of a string?"
   ]
  },
  {
   "cell_type": "code",
   "execution_count": 21,
   "id": "83c52ad7",
   "metadata": {},
   "outputs": [
    {
     "name": "stdout",
     "output_type": "stream",
     "text": [
      "Enter a string: python programming\n",
      "Last 10 characters of a string are : rogramming\n"
     ]
    }
   ],
   "source": [
    "str1 = input(\"Enter a string: \")\n",
    "print(\"Last 10 characters of a string are :\",str1[len(str1)-10:])"
   ]
  },
  {
   "cell_type": "markdown",
   "id": "d1996347",
   "metadata": {},
   "source": [
    "### Write a Python program to remove a newline in Python."
   ]
  },
  {
   "cell_type": "code",
   "execution_count": 36,
   "id": "70aeb2cc",
   "metadata": {},
   "outputs": [
    {
     "name": "stdout",
     "output_type": "stream",
     "text": [
      "Given sentence is : \n",
      "Machine learning is an application of artificial intelligence (AI) \n",
      "that provides systems the ability to automatically learn and improve \n",
      "from experience without being explicitly programmed. \n",
      "Machine learning focuses on the development of computer programs  that \n",
      "can access data and use it to learn for themselves.\n",
      "\n",
      "Sentence after removing newline is: \n",
      "Machine learning is an application of artificial intelligence (AI) that provides systems the ability to automatically learn and improve from experience without being explicitly programmed. Machine learning focuses on the development of computer programs  that can access data and use it to learn for themselves.\n"
     ]
    }
   ],
   "source": [
    "str1 = \"\"\"\\nMachine learning is an application of artificial intelligence (AI) \n",
    "that provides systems the ability to automatically learn and improve \n",
    "from experience without being explicitly programmed. \n",
    "Machine learning focuses on the development of computer programs  that \n",
    "can access data and use it to learn for themselves.\"\"\"\n",
    "print(\"Given sentence is :\", str1)\n",
    "print(\"\\nSentence after removing newline is: \",end=\"\\n\")\n",
    "print(str1.replace(\"\\n\",\"\"))"
   ]
  },
  {
   "cell_type": "markdown",
   "id": "2afcbf9a",
   "metadata": {},
   "source": [
    "### Write a Python program to swap commas and dots in a string\n",
    "○\tSample string: \"32.054,23\"\n",
    "\n",
    "○\tExpected Output: \"32,054.23\""
   ]
  },
  {
   "cell_type": "code",
   "execution_count": 41,
   "id": "d0859ddb",
   "metadata": {},
   "outputs": [
    {
     "name": "stdout",
     "output_type": "stream",
     "text": [
      "Given string is :  32.054,23\n",
      "String after swapping commas and dots :  32,054.23\n"
     ]
    }
   ],
   "source": [
    "str1 = \"32.054,23\"\n",
    "lst = str1.split(\".\")\n",
    "for i in range(len(lst)):\n",
    "    if ',' in lst[i]:\n",
    "        lst[i] = lst[i].replace(\",\",\".\")\n",
    "print(\"Given string is : \", str1)\n",
    "print(\"String after swapping commas and dots : \", \",\".join(lst))"
   ]
  },
  {
   "cell_type": "markdown",
   "id": "60b98618",
   "metadata": {},
   "source": [
    "### How do you check if a string contains only digits?"
   ]
  },
  {
   "cell_type": "code",
   "execution_count": 45,
   "id": "3918e9df",
   "metadata": {},
   "outputs": [
    {
     "name": "stdout",
     "output_type": "stream",
     "text": [
      "Enter a string of digits:123456\n",
      "The string 123456 contains digit only.\n"
     ]
    }
   ],
   "source": [
    "# By using isdigit() method of string \n",
    "str1 = input(\"Enter a string of digits:\")\n",
    "if str1.isdigit():\n",
    "    print(\"The string\",str1,\"contains digit only.\")\n",
    "else:\n",
    "    print(\"The string\",str2,\"not contains digit only.\")"
   ]
  },
  {
   "cell_type": "markdown",
   "id": "83c23c7a",
   "metadata": {},
   "source": [
    "### How do you remove a given character/word from String?"
   ]
  },
  {
   "cell_type": "code",
   "execution_count": 52,
   "id": "c573a07c",
   "metadata": {},
   "outputs": [
    {
     "name": "stdout",
     "output_type": "stream",
     "text": [
      "Enter a string: Python and Machine Learning and Deep Learning\n",
      "Enter a char/word to remove from given string: and\n",
      "String after removing and is:  Python  Machine Learning  Deep Learning\n"
     ]
    }
   ],
   "source": [
    "# By using replace() method of string\n",
    "str1 = input(\"Enter a string: \")\n",
    "char = input(\"Enter a char/word to remove from given string: \")\n",
    "if char in str1:\n",
    "    count = str1.count(char)\n",
    "    str1 = str1.replace(char,\"\",count)\n",
    "    print(\"String after removing\",char,\"is: \",str1)\n",
    "else:\n",
    "    print(char,\"is not present in string.\")"
   ]
  },
  {
   "cell_type": "markdown",
   "id": "2c76058e",
   "metadata": {},
   "source": [
    "### Write a Python program to remove the characters which have odd index values of a given string"
   ]
  },
  {
   "cell_type": "code",
   "execution_count": 60,
   "id": "f9ce59ea",
   "metadata": {},
   "outputs": [
    {
     "name": "stdout",
     "output_type": "stream",
     "text": [
      "Enter a string: Python and Machine Learning\n",
      "String after removing odd index values characters is: P t o   n   a h n   e r i g\n"
     ]
    }
   ],
   "source": [
    "str1 = input(\"Enter a string: \")\n",
    "newstr = \"\"\n",
    "for i in range(len(str1)):\n",
    "    if i % 2 == 0:\n",
    "        newstr = newstr + str1[i]\n",
    "    else:\n",
    "        newstr = newstr + \" \"\n",
    "print(\"String after removing odd index values characters is:\",newstr)"
   ]
  },
  {
   "cell_type": "markdown",
   "id": "f8bba922",
   "metadata": {},
   "source": [
    "### Write a Python function to reverses a string if its length is a multiple of 5"
   ]
  },
  {
   "cell_type": "code",
   "execution_count": 64,
   "id": "ed27b8f8",
   "metadata": {},
   "outputs": [
    {
     "name": "stdout",
     "output_type": "stream",
     "text": [
      "Enter a string: Python and Machine Learning ML\n",
      "Reverse of string is: LM gninraeL enihcaM dna nohtyP\n"
     ]
    }
   ],
   "source": [
    "str1 = input(\"Enter a string: \")\n",
    "if len(str1) % 5 == 0:\n",
    "    print(\"Reverse of string is:\",str1[::-1])"
   ]
  },
  {
   "cell_type": "markdown",
   "id": "c4fd15de",
   "metadata": {},
   "source": [
    "### Write a Python program to format a number with a percentage(0.05 >> 5%)"
   ]
  },
  {
   "cell_type": "code",
   "execution_count": 68,
   "id": "d2cb518b",
   "metadata": {},
   "outputs": [
    {
     "name": "stdout",
     "output_type": "stream",
     "text": [
      "Enter a number: 0.05\n",
      "Percentage format of given number is: 5 %\n"
     ]
    }
   ],
   "source": [
    "str1 = float(input(\"Enter a number: \"))\n",
    "num = int(str1*100)\n",
    "print(\"Percentage format of given number is:\",num,\"%\")"
   ]
  },
  {
   "cell_type": "markdown",
   "id": "2af384dd",
   "metadata": {},
   "source": [
    "### Write a Python program to reverse words in a string"
   ]
  },
  {
   "cell_type": "code",
   "execution_count": 69,
   "id": "397af0b3",
   "metadata": {},
   "outputs": [
    {
     "name": "stdout",
     "output_type": "stream",
     "text": [
      "Enter a string: Python and Machine Learning\n",
      "Revere word string is: nohtyP dna enihcaM gninraeL\n"
     ]
    }
   ],
   "source": [
    "str1 = input(\"Enter a string: \")\n",
    "lst = str1.split()\n",
    "for i in range(len(lst)):\n",
    "    lst[i] = lst[i][::-1]\n",
    "print(\"Revere word string is:\",\" \".join(lst))"
   ]
  },
  {
   "cell_type": "markdown",
   "id": "14a21ac5",
   "metadata": {},
   "source": [
    "### WAP to convert a given string to all uppercase if it contains at least 2 uppercase characters in the first 4 characters."
   ]
  },
  {
   "cell_type": "code",
   "execution_count": 72,
   "id": "a53cb644",
   "metadata": {},
   "outputs": [
    {
     "name": "stdout",
     "output_type": "stream",
     "text": [
      "Enter a string: PyThon and Data Science\n",
      "Modified string is PYTHON AND DATA SCIENCE\n"
     ]
    }
   ],
   "source": [
    "str1 = input(\"Enter a string: \")\n",
    "Ucount = 0\n",
    "for char in str1[:4]:\n",
    "    if char.isupper():\n",
    "        Ucount += 1\n",
    "if Ucount >= 2:\n",
    "    print(\"Modified string is\",str1.upper())\n",
    "else:\n",
    "    print(\"Given string doesn't have uppercase character in first 4 characters.\")"
   ]
  },
  {
   "cell_type": "markdown",
   "id": "59381e20",
   "metadata": {},
   "source": [
    "### Write a Python program to find the first repeated character in a given string"
   ]
  },
  {
   "cell_type": "code",
   "execution_count": 18,
   "id": "70884dcf",
   "metadata": {},
   "outputs": [
    {
     "name": "stdout",
     "output_type": "stream",
     "text": [
      "Enter a string: Hello Sagar Kale\n",
      "First Repeated character in given string is: l\n"
     ]
    }
   ],
   "source": [
    "str1 = input(\"Enter a string: \")\n",
    "newstr = \"\"\n",
    "for char in str1:\n",
    "    if char not in newstr:\n",
    "        newstr = newstr + char\n",
    "    else:\n",
    "        print(\"First Repeated character in given string is:\",char)\n",
    "        break"
   ]
  },
  {
   "cell_type": "markdown",
   "id": "e1e873ed",
   "metadata": {},
   "source": [
    "### Write a Python program to find the second most repeated word in a given string"
   ]
  },
  {
   "cell_type": "code",
   "execution_count": 19,
   "id": "577d4cdc",
   "metadata": {},
   "outputs": [
    {
     "name": "stdout",
     "output_type": "stream",
     "text": [
      "Enter a string: Hello Sagar Kale\n",
      "Second most repeated character in given string is: a\n"
     ]
    }
   ],
   "source": [
    "str1 = input(\"Enter a string: \")\n",
    "newstr = \"\"\n",
    "count = 0\n",
    "for char in str1:\n",
    "    if char not in newstr:\n",
    "        newstr = newstr + char\n",
    "    else:\n",
    "        count += 1\n",
    "        if count == 2:\n",
    "            print(\"Second most repeated character in given string is:\",char)\n",
    "            break"
   ]
  },
  {
   "cell_type": "markdown",
   "id": "cde5da16",
   "metadata": {},
   "source": [
    "### Python program to Count Even and Odd numbers in a string"
   ]
  },
  {
   "cell_type": "code",
   "execution_count": 75,
   "id": "9a914300",
   "metadata": {},
   "outputs": [
    {
     "name": "stdout",
     "output_type": "stream",
     "text": [
      "Enter a number:123456789\n",
      "In given number 4 even digits and 5 odd digits are present.\n"
     ]
    }
   ],
   "source": [
    "str1 = input(\"Enter a number:\")\n",
    "Even = Odd = 0\n",
    "for char in str1:\n",
    "    Number = int(char)\n",
    "    if Number % 2 == 0:\n",
    "        Even += 1\n",
    "    else:\n",
    "        Odd += 1\n",
    "print(\"In given number\",Even,\"even digits and\",Odd,\"odd digits are present.\")"
   ]
  },
  {
   "cell_type": "markdown",
   "id": "30d48228",
   "metadata": {},
   "source": [
    "### Write a Python program to swap cases of a given string"
   ]
  },
  {
   "cell_type": "code",
   "execution_count": 76,
   "id": "010c6a7a",
   "metadata": {},
   "outputs": [
    {
     "name": "stdout",
     "output_type": "stream",
     "text": [
      "Enter a string: Python and Data Science\n",
      "Swap case of given string is: pYTHON AND dATA sCIENCE\n"
     ]
    }
   ],
   "source": [
    "str1 = input(\"Enter a string: \")\n",
    "print(\"Swap case of given string is:\",str1.swapcase())"
   ]
  },
  {
   "cell_type": "markdown",
   "id": "c6259595",
   "metadata": {},
   "source": [
    "### Write a Python program to remove spaces from a given string"
   ]
  },
  {
   "cell_type": "code",
   "execution_count": 6,
   "id": "e33c2499",
   "metadata": {},
   "outputs": [
    {
     "name": "stdout",
     "output_type": "stream",
     "text": [
      "Enter a string: Hello Sagar Kale\n",
      "String after removing spaces is: HelloSagarKale\n",
      "\n",
      "Another way\n",
      "Enter a String: Hello Sagar Kale\n",
      "String after removing spaces is: HelloSagarKale\n"
     ]
    }
   ],
   "source": [
    "str1 = input(\"Enter a string: \")\n",
    "print(\"String after removing spaces is:\",str1.replace(\" \",\"\"))\n",
    "\n",
    "# Another Way\n",
    "print(\"\\nAnother way\")\n",
    "str1 = input(\"Enter a String: \")\n",
    "lst = str1.split()\n",
    "print(\"String after removing spaces is:\",\"\".join(lst))"
   ]
  },
  {
   "cell_type": "markdown",
   "id": "0189f661",
   "metadata": {},
   "source": [
    "### Write a Python program to remove duplicate characters of a given string"
   ]
  },
  {
   "cell_type": "code",
   "execution_count": 12,
   "id": "c966cbea",
   "metadata": {},
   "outputs": [
    {
     "name": "stdout",
     "output_type": "stream",
     "text": [
      "Enter a string: Hello Sagar Kale Welcome, I'm Mansingh Kadam, Data Scientist in Tata Technologies.\n",
      "String after removing duplicate characters is: D,lWmdi.hISHganrMKtoT'cse \n",
      "\n",
      "Alternate method\n",
      "String after removing duplicate characters is: Helo SagrKWcm,I'MnsihdDtT.\n"
     ]
    }
   ],
   "source": [
    "# By using set() we can remove duplicate characters as set() not allows duplicate characters.\n",
    "# But drawback of set() is, it is unordered data set. so sequence of order may change. \n",
    "\n",
    "str1 = input(\"Enter a string: \")\n",
    "print(\"String after removing duplicate characters is:\",\"\".join(set(str1)))\n",
    "\n",
    "# Alternate method\n",
    "print(\"\\nAlternate method\")\n",
    "newstr = \"\"\n",
    "for char in str1:\n",
    "    if char not in newstr:\n",
    "        newstr = newstr + char\n",
    "print(\"String after removing duplicate characters is:\",newstr)"
   ]
  },
  {
   "cell_type": "markdown",
   "id": "f72c830f",
   "metadata": {},
   "source": [
    "### Write a Python Program to find the area of a circle"
   ]
  },
  {
   "cell_type": "code",
   "execution_count": 25,
   "id": "d51b491f",
   "metadata": {},
   "outputs": [
    {
     "name": "stdout",
     "output_type": "stream",
     "text": [
      "Enter the radius of circle: 5\n",
      "Area of circle is: 78.53981633974483\n"
     ]
    }
   ],
   "source": [
    "import numpy as np\n",
    "radius = float(input(\"Enter the radius of circle: \"))\n",
    "area = np.pi * (radius**2)\n",
    "print(\"Area of circle is:\", area)"
   ]
  },
  {
   "cell_type": "markdown",
   "id": "2a296f19",
   "metadata": {},
   "source": [
    "### Python Program to find Sum of squares of first n natural numbers"
   ]
  },
  {
   "cell_type": "code",
   "execution_count": 26,
   "id": "3c72748d",
   "metadata": {},
   "outputs": [
    {
     "name": "stdout",
     "output_type": "stream",
     "text": [
      "Enter a number to find sum of squares: 5\n",
      "Sum of squares of first 5 natural numbers is 55\n"
     ]
    }
   ],
   "source": [
    "number = int(input(\"Enter a number to find sum of squares: \"))\n",
    "sum1 = 0\n",
    "for i in range(1,number+1):\n",
    "    sum1 = sum1 + (i**2)\n",
    "print(f\"Sum of squares of first {number} natural numbers is {sum1}\")"
   ]
  },
  {
   "cell_type": "markdown",
   "id": "e6d754a1",
   "metadata": {},
   "source": [
    "### Python Program to find cube sum of first n natural numbers"
   ]
  },
  {
   "cell_type": "code",
   "execution_count": 27,
   "id": "3c503e0c",
   "metadata": {},
   "outputs": [
    {
     "name": "stdout",
     "output_type": "stream",
     "text": [
      "Enter a number to find sum of cubes: 3\n",
      "Cube sum of first 3 natural numbers is 36\n"
     ]
    }
   ],
   "source": [
    "number = int(input(\"Enter a number to find sum of cubes: \"))\n",
    "sum1 = 0\n",
    "for i in range(1,number+1):\n",
    "    sum1 = sum1 + (i**3)\n",
    "print(f\"Cube sum of first {number} natural numbers is {sum1}\")"
   ]
  },
  {
   "cell_type": "markdown",
   "id": "1666efea",
   "metadata": {},
   "source": [
    "### Python Program to find simple interest and compound interest"
   ]
  },
  {
   "cell_type": "code",
   "execution_count": 37,
   "id": "b8f2b64d",
   "metadata": {},
   "outputs": [
    {
     "name": "stdout",
     "output_type": "stream",
     "text": [
      "Enter principal amount: 25000\n",
      "Enter a rate of interest: 8.6\n",
      "Enter time span in years: 5\n",
      "Simple interest is 10750.0 and total amount including simple interest is 35750.0\n",
      "Total amount after Compound interest is 37764.96920875441\n"
     ]
    }
   ],
   "source": [
    "principal = float(input(\"Enter principal amount: \"))\n",
    "rate = float(input(\"Enter a rate of interest: \"))\n",
    "time = float(input(\"Enter time span in years: \"))\n",
    "sI = (principal*rate*time)/100\n",
    "print(f\"Simple interest is {sI} and total amount including simple interest is {principal+sI}\")\n",
    "\n",
    "CI = principal*((1+(rate/100))**time)\n",
    "print(f\"Total amount after Compound interest is {CI}\")"
   ]
  },
  {
   "cell_type": "markdown",
   "id": "91984b81",
   "metadata": {},
   "source": [
    "### Python program to check whether a number is Prime or not"
   ]
  },
  {
   "cell_type": "code",
   "execution_count": 53,
   "id": "0a387686",
   "metadata": {},
   "outputs": [
    {
     "name": "stdout",
     "output_type": "stream",
     "text": [
      "Enter a number to check whether it is prime or not: 7\n",
      "Number is prime.\n"
     ]
    }
   ],
   "source": [
    "num = int(input(\"Enter a number to check whether it is prime or not: \"))\n",
    "count = 0\n",
    "for i in range(2,num+1):\n",
    "    if num % i == 0:\n",
    "        count += 1\n",
    "        if num == i and count == 1:\n",
    "            print(\"Number is prime.\")\n",
    "if count > 1:\n",
    "    print(\"Number is not prime.\")"
   ]
  }
 ],
 "metadata": {
  "kernelspec": {
   "display_name": "Python 3 (ipykernel)",
   "language": "python",
   "name": "python3"
  },
  "language_info": {
   "codemirror_mode": {
    "name": "ipython",
    "version": 3
   },
   "file_extension": ".py",
   "mimetype": "text/x-python",
   "name": "python",
   "nbconvert_exporter": "python",
   "pygments_lexer": "ipython3",
   "version": "3.9.12"
  }
 },
 "nbformat": 4,
 "nbformat_minor": 5
}

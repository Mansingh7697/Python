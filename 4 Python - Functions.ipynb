{
 "cells": [
  {
   "cell_type": "markdown",
   "id": "d914a7db",
   "metadata": {},
   "source": [
    "### Python Program for Find largest prime factor of a number"
   ]
  },
  {
   "cell_type": "code",
   "execution_count": 10,
   "id": "c98e057d",
   "metadata": {},
   "outputs": [
    {
     "name": "stdout",
     "output_type": "stream",
     "text": [
      "Enter a number to find its largest prime factor: 33\n",
      "Largest prime factor of 33 is 11\n"
     ]
    }
   ],
   "source": [
    "def factors(num):\n",
    "    divisors = []\n",
    "    for i in range(2,num+1):\n",
    "        if num % i == 0:\n",
    "            if isPrime(i):\n",
    "                divisors.append(i)\n",
    "    divisors.reverse()\n",
    "    return divisors[0]\n",
    "\n",
    "def isPrime(value):\n",
    "    flag = 0\n",
    "    for j in range(2,value+1):\n",
    "        if value % j == 0:\n",
    "            flag += 1\n",
    "    if flag == 1:\n",
    "        return True\n",
    "    \n",
    "num = int(input('Enter a number to find its largest prime factor: '))\n",
    "print(f'Largest prime factor of {num} is {factors(num)}')"
   ]
  },
  {
   "cell_type": "markdown",
   "id": "3f31247e",
   "metadata": {},
   "source": [
    "### Python Program for Product of unique prime factors of a number"
   ]
  },
  {
   "cell_type": "code",
   "execution_count": 15,
   "id": "a058c29a",
   "metadata": {},
   "outputs": [
    {
     "name": "stdout",
     "output_type": "stream",
     "text": [
      "Enter a number to find its largest prime factor: 36\n",
      "Product of unique prime factor of 36 is 6\n"
     ]
    }
   ],
   "source": [
    "def Uniquefactors(num):\n",
    "    divisors = []\n",
    "    for i in range(2,num+1):\n",
    "        if num % i == 0:\n",
    "            if isPrime(i):\n",
    "                divisors.append(i)\n",
    "    list1 = list(set(divisors))\n",
    "    multi = 1\n",
    "    for i in range(len(list1)):\n",
    "        multi = multi * list1[i]\n",
    "    return multi\n",
    "\n",
    "def isPrime(value):\n",
    "    flag = 0\n",
    "    for j in range(2,value+1):\n",
    "        if value % j == 0:\n",
    "            flag += 1\n",
    "    if flag == 1:\n",
    "        return True\n",
    "    \n",
    "num = int(input('Enter a number to find its largest prime factor: '))\n",
    "print(f'Product of unique prime factor of {num} is {Uniquefactors(num)}')"
   ]
  },
  {
   "cell_type": "markdown",
   "id": "fd3d59b1",
   "metadata": {},
   "source": [
    "### Python Program to find Factorial of Number"
   ]
  },
  {
   "cell_type": "code",
   "execution_count": 13,
   "id": "74bda5c3",
   "metadata": {},
   "outputs": [
    {
     "name": "stdout",
     "output_type": "stream",
     "text": [
      "Enter a number to find factorial: -2\n",
      "Factorial of -2 is undefined since it is negative number\n"
     ]
    }
   ],
   "source": [
    "def fact(num):\n",
    "    if num < 0 :\n",
    "        return 'undefined, since it is negative number'\n",
    "    elif (num == 0 or num == 1):\n",
    "        return 1\n",
    "    else:\n",
    "        return num*fact(num-1)\n",
    "\n",
    "num = int(input('Enter a number to find factorial: '))\n",
    "factorial = fact(num)\n",
    "print(f'Factorial of {num} is {factorial}')"
   ]
  },
  {
   "cell_type": "markdown",
   "id": "692e2920",
   "metadata": {},
   "source": [
    "### Python Program for Find sum of odd factors of a number"
   ]
  },
  {
   "cell_type": "code",
   "execution_count": 28,
   "id": "99ab0d32",
   "metadata": {},
   "outputs": [
    {
     "name": "stdout",
     "output_type": "stream",
     "text": [
      "Enter a number: 6\n",
      "Odd factors of 6 are [1, 3] and Even factors of 6 are [2, 6]\n",
      "Sum of odd factors of 6 is 4\n"
     ]
    }
   ],
   "source": [
    "def oddfactorSum(num):\n",
    "    oddfactors = []\n",
    "    evenfactors = []\n",
    "    for i in range(1,num+1):\n",
    "        if num%i == 0 :\n",
    "            if i%2 != 0:\n",
    "                oddfactors.append(i)\n",
    "            else:\n",
    "                evenfactors.append(i) \n",
    "    print(f'Odd factors of {num} are {oddfactors} and Even factors of {num} are {evenfactors}')\n",
    "    return sum(oddfactors)\n",
    "\n",
    "num = int(input('Enter a number: '))\n",
    "Add = oddfactorSum(num)\n",
    "print(f'Sum of odd factors of {num} is {Add}')"
   ]
  },
  {
   "cell_type": "markdown",
   "id": "f87c206a",
   "metadata": {},
   "source": [
    "### Python Program to Check if binary representation is a palindrome"
   ]
  },
  {
   "cell_type": "code",
   "execution_count": 3,
   "id": "07f5e527",
   "metadata": {},
   "outputs": [
    {
     "name": "stdout",
     "output_type": "stream",
     "text": [
      "Enter a number to check its binary representation is palindrome or not: 5\n",
      "Binary representation of 5 is 101\n",
      "Binary representation of given number is palindrome.\n"
     ]
    }
   ],
   "source": [
    "def palindrome(num):\n",
    "    bin1 = bin(num)[2:]\n",
    "    bin2 = bin1[::-1]\n",
    "    print(f'Binary representation of {num} is {bin1}')\n",
    "    if bin1 == bin2:\n",
    "        print('Binary representation of given number is palindrome.')\n",
    "    else:\n",
    "        print('Binary representation of given number is not palindrome.')\n",
    "        \n",
    "num = int(input('Enter a number to check its binary representation is palindrome or not: '))\n",
    "palindrome(num)"
   ]
  },
  {
   "cell_type": "markdown",
   "id": "a042cb9b",
   "metadata": {},
   "source": [
    "### Python Program for Number of elements with odd factors in a given range"
   ]
  },
  {
   "cell_type": "code",
   "execution_count": 5,
   "id": "5af6ec0c",
   "metadata": {},
   "outputs": [
    {
     "name": "stdout",
     "output_type": "stream",
     "text": [
      "Enter two numbers separated by comma: 5,100\n",
      "Number of elements with odd factors from 5 to 100 are \n",
      "[9, 16, 25, 36, 49, 64, 81, 100]\n"
     ]
    }
   ],
   "source": [
    "def oddFactor(num1, num2):\n",
    "    odd = []\n",
    "    for num in range(num1, num2+1):\n",
    "        factors = []\n",
    "        for j in range(2,num):\n",
    "            if num % j == 0:\n",
    "                factors.append(j)\n",
    "        if len(factors) % 2 != 0:\n",
    "            odd.append(num)\n",
    "    return odd\n",
    "\n",
    "num1, num2 = eval(input('Enter two numbers separated by comma: '))\n",
    "print(f'Number of elements with odd factors from {num1} to {num2} are \\n{oddFactor(num1, num2)}')"
   ]
  },
  {
   "cell_type": "code",
   "execution_count": 6,
   "id": "4079091a",
   "metadata": {},
   "outputs": [
    {
     "name": "stdout",
     "output_type": "stream",
     "text": [
      "Count is 8\n"
     ]
    }
   ],
   "source": [
    "\"\"\"Only those numbers, which are perfect Squares have an odd number of factors. \n",
    "For example, 9 has odd number of factors, 1, 3 and 9. 16 also has odd number of factors, 1, 2, 4, 8, 16. \n",
    "The reason for this is, for numbers other than perfect squares, all factors are in the form of pairs, \n",
    "but for perfect squares, one factor is single and makes the total as odd.\"\"\"\n",
    "\n",
    "def countOddSquares(n, m):\n",
    "    return int(m**0.5) - int((n-1)**0.5)\n",
    "\n",
    "n = 5\n",
    "m = 100\n",
    "print(\"Count is\", countOddSquares(n, m))"
   ]
  },
  {
   "cell_type": "markdown",
   "id": "3e38cac0",
   "metadata": {},
   "source": [
    "### Python Program for Common Divisors of Two Numbers"
   ]
  },
  {
   "cell_type": "code",
   "execution_count": 8,
   "id": "4ef54d20",
   "metadata": {},
   "outputs": [
    {
     "name": "stdout",
     "output_type": "stream",
     "text": [
      "Enter two numbers separated by comma: 243, 957\n",
      "Divisors of 243 are [1, 3, 9, 27, 81, 243]\n",
      "Divisors of 957 are [1, 3, 11, 29, 33, 87, 319, 957]\n",
      "Common divisors of 243 and 957 are [1, 3]\n"
     ]
    }
   ],
   "source": [
    "def CommonDevisor(num1, num2):\n",
    "    divisor1 = []\n",
    "    divisor2 = []\n",
    "    common = []\n",
    "    for i in range(1,num1+1):\n",
    "        if num1%i == 0:\n",
    "            divisor1.append(i)\n",
    "    for j in range(1,num2+1):\n",
    "        if num2%j == 0:\n",
    "            divisor2.append(j)\n",
    "    for ele1 in divisor1:\n",
    "        for ele2 in divisor2:\n",
    "            if ele1 == ele2:\n",
    "                common.append(ele1)\n",
    "    print(f'Divisors of {num1} are {divisor1}')\n",
    "    print(f'Divisors of {num2} are {divisor2}')\n",
    "    print(f'Common divisors of {num1} and {num2} are {common}')\n",
    "    \n",
    "num1, num2 = eval(input('Enter two numbers separated by comma: '))\n",
    "CommonDevisor(num1, num2)"
   ]
  },
  {
   "cell_type": "markdown",
   "id": "399faa19",
   "metadata": {},
   "source": [
    "### Python Program to Check if a count of divisors is even or odd"
   ]
  },
  {
   "cell_type": "code",
   "execution_count": 7,
   "id": "7e51f265",
   "metadata": {},
   "outputs": [
    {
     "name": "stdout",
     "output_type": "stream",
     "text": [
      "Enter a number: 16\n",
      "Divisors of 16 are [2, 4, 8]\n",
      "Count of divisors is odd.\n"
     ]
    }
   ],
   "source": [
    "def CountDivisor(num):\n",
    "    divisor = []\n",
    "    for i in range(2,num):\n",
    "        if num%i == 0:\n",
    "            divisor.append(i)\n",
    "    print(f'Divisors of {num} are {divisor}')\n",
    "    if len(divisor)%2 == 0:\n",
    "        print('Count of divisors is even.')\n",
    "    else:\n",
    "        print('Count of divisors is odd.')\n",
    "\n",
    "num = int(input('Enter a number: '))\n",
    "CountDivisor(num)"
   ]
  },
  {
   "cell_type": "markdown",
   "id": "9b80f61b",
   "metadata": {},
   "source": [
    "### Python Program to Find the minimum sum of factors of a number"
   ]
  },
  {
   "cell_type": "code",
   "execution_count": 18,
   "id": "2cb5ed5d",
   "metadata": {},
   "outputs": [
    {
     "name": "stdout",
     "output_type": "stream",
     "text": [
      "Enter a number to find the minimum sum of factors: 36\n",
      "Minimum sum of factors of 36 is 10\n"
     ]
    }
   ],
   "source": [
    "def MinSumFactors(num):\n",
    "    sum1 = 0\n",
    "    for i in range(2, num):\n",
    "        while(num % i == 0):\n",
    "            sum1 += i\n",
    "            num //= i\n",
    "        i += 1\n",
    "    return sum1\n",
    "\n",
    "num = int(input('Enter a number to find the minimum sum of factors: '))\n",
    "print(f\"Minimum sum of factors of {num} is {MinSumFactors(num)}\")"
   ]
  },
  {
   "cell_type": "markdown",
   "id": "45bcf5a7",
   "metadata": {},
   "source": [
    "### Python Program to find Difference between sums of odd and even digits"
   ]
  },
  {
   "cell_type": "code",
   "execution_count": 3,
   "id": "f3a0002a",
   "metadata": {},
   "outputs": [
    {
     "name": "stdout",
     "output_type": "stream",
     "text": [
      "Enter a number: 123456\n",
      "Sum of odd digits of given number is 12 and sum of even digits in 9.\n"
     ]
    }
   ],
   "source": [
    "num = int(input('Enter a number: '))\n",
    "\n",
    "def sumOddEven(num):\n",
    "    evenSum = 0\n",
    "    oddSum = 0\n",
    "    flag = 1\n",
    "\n",
    "    while(num > 0):\n",
    "        if flag%2 == 1:\n",
    "            odd = num%10\n",
    "            oddSum = oddSum + odd\n",
    "        else:\n",
    "            even = num%10\n",
    "            evenSum = evenSum + even\n",
    "        flag += 1\n",
    "        num = num//10\n",
    "        \n",
    "    print(f'Sum of odd digits of given number is {oddSum} and sum of even digits in {evenSum}.')\n",
    "    \n",
    "sumOddEven(num)    "
   ]
  },
  {
   "cell_type": "markdown",
   "id": "cc2c4aeb",
   "metadata": {},
   "source": [
    "### Python Program for Largest and Smallest K digit number divisible by X"
   ]
  },
  {
   "cell_type": "code",
   "execution_count": 25,
   "id": "607ae7e6",
   "metadata": {},
   "outputs": [
    {
     "name": "stdout",
     "output_type": "stream",
     "text": [
      "Enter How many digits number you want: 3\n",
      "Enter the divisible number: 12\n",
      "The smallest 3 digit number divisible by 12 is 108\n",
      "The largest 3 digit number divisible by 12 is 996\n"
     ]
    }
   ],
   "source": [
    "def maxdigit(num, digit):\n",
    "    maxvalue = pow(10, digit) - 1\n",
    "    return (maxvalue - (maxvalue % num))\n",
    "\n",
    "def smalldigit(num, digit):\n",
    "    minvalue = pow(10, digit-1)\n",
    "    if minvalue % num == 0:\n",
    "        return minvalue\n",
    "    else:\n",
    "        return ((minvalue + num) - ((minvalue + num) % num))\n",
    "\n",
    "K = int(input('Enter How many digits number you want: '))\n",
    "X = int(input('Enter the divisible number: '))\n",
    "print(f'The smallest {K} digit number divisible by {X} is {smalldigit(X,K)}')\n",
    "print(f'The largest {K} digit number divisible by {X} is {maxdigit(X,K)}')"
   ]
  },
  {
   "cell_type": "markdown",
   "id": "1a14e890",
   "metadata": {},
   "source": [
    "### Python Program to calculate the area of a Tetrahedron"
   ]
  },
  {
   "cell_type": "code",
   "execution_count": 30,
   "id": "e5f8e229",
   "metadata": {},
   "outputs": [
    {
     "name": "stdout",
     "output_type": "stream",
     "text": [
      "Enter the side of Tetrahedron: 5\n",
      "Area of Tetrahedron is 43.30127018922193.\n"
     ]
    }
   ],
   "source": [
    "def Tetrahedron_Area(side):\n",
    "    return (3**(1/2) * (side**2))\n",
    "\n",
    "side = eval(input('Enter the side of Tetrahedron: '))\n",
    "print(f'Area of Tetrahedron is {Tetrahedron_Area(side)}.')"
   ]
  },
  {
   "cell_type": "markdown",
   "id": "74c3fad8",
   "metadata": {},
   "source": [
    "### Python Program to Find the perimeter of a cylinder"
   ]
  },
  {
   "cell_type": "code",
   "execution_count": 31,
   "id": "754efd2e",
   "metadata": {},
   "outputs": [
    {
     "name": "stdout",
     "output_type": "stream",
     "text": [
      "Enter diameter and height of Cylinder separated by comma: 15,28\n",
      "Perimeter of Cylinder is 86\n"
     ]
    }
   ],
   "source": [
    "def Perimeter_Cylinder(d,h):\n",
    "    return ((2*d)+(2*h))\n",
    "\n",
    "diameter, height = eval(input('Enter diameter and height of Cylinder separated by comma: '))\n",
    "print(f'Perimeter of Cylinder is {Perimeter_Cylinder(diameter, height)}')"
   ]
  },
  {
   "cell_type": "markdown",
   "id": "e4c230b0",
   "metadata": {},
   "source": [
    "### Python Program to Find the vertex, focus, and directrix of a parabola"
   ]
  },
  {
   "cell_type": "code",
   "execution_count": 34,
   "id": "ae037c35",
   "metadata": {},
   "outputs": [
    {
     "name": "stdout",
     "output_type": "stream",
     "text": [
      "The general equation of parabola is given by y = ax² + bx + c, enter the values of a, b and c: 5,3,2\n",
      "Vertex of a parabola is ( -0.3 , 1.55 )\n",
      "Focus of a parabola is ( -0.3 , 1.6 )\n",
      "Equation of directrix of a parabola is y = -198\n"
     ]
    }
   ],
   "source": [
    "\"\"\"A parabola is a curve that is defined by a fixed point called the focus and a fixed line called the directrix. \n",
    "The axis of the parabola is the line through the focus and perpendicular to the directrix. The vertex of the parabola\n",
    "is the point where the parabola intersects the axis. The focus is always inside the parabola, and the directrix \n",
    "is always outside the parabola.\"\"\"\n",
    "\n",
    "def Parabola(a,b,c):\n",
    "    print('Vertex of a parabola is (',(-b/(2*a)), ',', (((4*a*c)-(b*b))/(4*a)),')')\n",
    "    print('Focus of a parabola is (',(-b/(2*a)), ',', (((4*a*c)-(b*b)+1)/(4*a)),')' )\n",
    "    print('Equation of directrix of a parabola is y =',int(c-((b*b)+1)*4*a))\n",
    "\n",
    "a, b, c = eval(input('The general equation of parabola is given by y = ax\\u00b2 + bx + c, enter the values of a, b and c: '))\n",
    "Parabola(a,b,c)"
   ]
  },
  {
   "cell_type": "code",
   "execution_count": 1,
   "id": "238fc3d6",
   "metadata": {},
   "outputs": [
    {
     "name": "stdout",
     "output_type": "stream",
     "text": [
      "The general equation of parabola is given by y = ax² + bx + c, enter the values of a, b and c: 5,3,2\n",
      "Vertex: (-0.3, 1.55)\n",
      "Focus: (-0.3, 1.6)\n",
      "Directrix: y = -198\n"
     ]
    }
   ],
   "source": [
    "def find_parabola(a, b, c):\n",
    "    vertex_x = -b / (2 * a)\n",
    "    vertex_y = c - (b ** 2) / (4 * a)\n",
    "    focus_x = vertex_x\n",
    "    focus_y = vertex_y + 1 / (4 * a)\n",
    "    directrix = c - (b ** 2 + 1) *(4 * a)\n",
    "    print(f\"Vertex: ({vertex_x}, {vertex_y})\")\n",
    "    print(f\"Focus: ({focus_x}, {focus_y})\")\n",
    "    print(f\"Directrix: y = {directrix}\")\n",
    "    \n",
    "a, b, c = eval(input('The general equation of parabola is given by y = ax\\u00b2 + bx + c, enter the values of a, b and c: '))\n",
    "find_parabola(a,b,c)"
   ]
  },
  {
   "cell_type": "markdown",
   "id": "34174d50",
   "metadata": {},
   "source": [
    "### Python program to find the most occurring character and its count"
   ]
  },
  {
   "cell_type": "code",
   "execution_count": 10,
   "id": "a4c6ff8e",
   "metadata": {},
   "outputs": [
    {
     "name": "stdout",
     "output_type": "stream",
     "text": [
      "Enter a string: Machine Learning\n",
      "Most occuring character is n and its count is 3\n"
     ]
    }
   ],
   "source": [
    "# Counter method creataes a dictionary, which will have string as key and their frequencies as value.\n",
    "\n",
    "from collections import Counter\n",
    "\n",
    "def find_most_occ_char(string):\n",
    "    WordCount = Counter(string)\n",
    "    MaxChar = max(WordCount.values())\n",
    "    keys = WordCount.keys()\n",
    "    for key in keys:\n",
    "        if WordCount[key] == MaxChar:\n",
    "            print(f'Most occuring character is {key} and its count is {MaxChar}')\n",
    "string = input('Enter a string: ')\n",
    "find_most_occ_char(string)"
   ]
  },
  {
   "cell_type": "markdown",
   "id": "fc64d3a2",
   "metadata": {},
   "source": [
    "### Python Program to Find the sum of even factors of a number"
   ]
  },
  {
   "cell_type": "code",
   "execution_count": 41,
   "id": "7570c3f8",
   "metadata": {},
   "outputs": [
    {
     "name": "stdout",
     "output_type": "stream",
     "text": [
      "Enter a number: 168\n",
      "factors of 168 are [2, 3, 4, 6, 7, 8, 12, 14, 21, 24, 28, 42, 56, 84]\n",
      "Sum of Even factors of 168 is 280\n"
     ]
    }
   ],
   "source": [
    "def Factors_Sum(num):\n",
    "    factors = []\n",
    "    sum1 = 0\n",
    "    for i in range(2,num):\n",
    "        if num%i == 0:\n",
    "            factors.append(i)\n",
    "    print(f'factors of {num} are {factors}')\n",
    "    for value in factors:\n",
    "        if value % 2 == 0:\n",
    "            sum1 += value\n",
    "    return sum1\n",
    "\n",
    "num = int(input('Enter a number: '))\n",
    "print(f'Sum of Even factors of {num} is {Factors_Sum(num)}')"
   ]
  },
  {
   "cell_type": "markdown",
   "id": "e716e860",
   "metadata": {},
   "source": [
    "### Python Program to Check if all digits of a number divide it"
   ]
  },
  {
   "cell_type": "code",
   "execution_count": 19,
   "id": "0928150a",
   "metadata": {},
   "outputs": [
    {
     "name": "stdout",
     "output_type": "stream",
     "text": [
      "Enter a number : 204\n",
      "The number 204 is divisible by [2, 4]\n"
     ]
    }
   ],
   "source": [
    "def divide_by_digit(num):\n",
    "    list1 = [int(value) for value in str(num)]\n",
    "    list2 = []\n",
    "    for i in range(len(list1)):\n",
    "        if list1[i] == 0:\n",
    "            pass\n",
    "        elif num % list1[i] == 0:\n",
    "            list2.append(list1[i])\n",
    "    return list2\n",
    "\n",
    "num = int(input('Enter a number : '))\n",
    "print(f'The number {num} is divisible by {divide_by_digit(num)}')"
   ]
  },
  {
   "cell_type": "markdown",
   "id": "c6170355",
   "metadata": {},
   "source": [
    "### Python program to convert float decimal to Octal number"
   ]
  },
  {
   "cell_type": "code",
   "execution_count": 21,
   "id": "f5db9096",
   "metadata": {},
   "outputs": [
    {
     "name": "stdout",
     "output_type": "stream",
     "text": [
      "Enter your floating point value : 7.1423\n",
      "Enter the number of decimal places of the result : 5\n",
      "7.11066\n"
     ]
    }
   ],
   "source": [
    "def float_octal(number, places = 3):  \n",
    "    whole, dec = str(number).split(\".\") #split() separates whole number & decimal part and stores it in two separate variables.\n",
    "    whole = int(whole) \n",
    "    dec = int (dec) \n",
    "    res = oct(whole).lstrip(\"0o\") + \".\" #Convert the whole number part to it's respective octal form & remove the \"0o\" from it. \n",
    "\n",
    "    for x in range(places): # Iterate the number of times we want the number of decimal places to be \n",
    "        whole, dec = str((decimal_converter(dec)) * 8).split(\".\")  \n",
    "        # Multiply the decimal value by 8 and separate the whole number part and decimal part \n",
    "        dec = int(dec) # Convert the decimal part to integer again \n",
    "        res += whole # keep adding the integer parts received to the result variable \n",
    "\n",
    "    return res \n",
    " \n",
    "def decimal_converter(num): # Function converts the value passed as parameter to it's respective decimal representation\n",
    "    while num > 1: \n",
    "        num /= 10\n",
    "    return num \n",
    "\n",
    "\n",
    "n = input(\"Enter your floating point value : \") \n",
    "p = int(input(\"Enter the number of decimal places of the result : \")) \n",
    "\n",
    "print(float_octal(n, p))"
   ]
  },
  {
   "cell_type": "markdown",
   "id": "de391632",
   "metadata": {},
   "source": [
    "### Write a Python program to replace whitespaces with an underscore and vice versa"
   ]
  },
  {
   "cell_type": "code",
   "execution_count": 6,
   "id": "578905b0",
   "metadata": {},
   "outputs": [
    {
     "name": "stdout",
     "output_type": "stream",
     "text": [
      "Enter the string: Learn the basics and applications of machine learning (ML) with examples and Python code. Explore supervised, unsupervised, and reinforcement learning, data processing, dimensionality reduction, natural language processing, neural networks, and more.\n",
      "New string is: \n",
      "Learn_the_basics_and_applications_of_machine_learning_(ML)_with_examples_and_Python_code._Explore_supervised,_unsupervised,_and_reinforcement_learning,_data_processing,_dimensionality_reduction,_natural_language_processing,_neural_networks,_and_more.\n"
     ]
    }
   ],
   "source": [
    "def replace_space(string):\n",
    "    lst = string.split()\n",
    "    return '_'.join(lst)\n",
    "\n",
    "string = input('Enter the string: ')\n",
    "print(f'New string is: \\n{replace_space(string)}')"
   ]
  },
  {
   "cell_type": "markdown",
   "id": "6956297e",
   "metadata": {},
   "source": [
    "### Write a Python program to convert a date or yyyy-mm-dd format to dd-mm-yyyy"
   ]
  },
  {
   "cell_type": "code",
   "execution_count": 6,
   "id": "979f18b0",
   "metadata": {},
   "outputs": [
    {
     "name": "stdout",
     "output_type": "stream",
     "text": [
      "Enter date in \"yyyy-mm-dd\" format: 1995-11-28\n",
      "Date in \"mm-dd-yyyy\" format is 28-11-1995\n"
     ]
    }
   ],
   "source": [
    "def Dateformat(string):\n",
    "    lst = string.split('-')\n",
    "    lst.reverse()\n",
    "    return '-'.join(lst)\n",
    "\n",
    "string = input('Enter date in \"yyyy-mm-dd\" format: ')\n",
    "print(f'Date in \"mm-dd-yyyy\" format is {Dateformat(string)}')"
   ]
  },
  {
   "cell_type": "markdown",
   "id": "dfccdbd8",
   "metadata": {},
   "source": [
    "### Write a Python program to find all words starting with 'a' or 'e' in a given string."
   ]
  },
  {
   "cell_type": "code",
   "execution_count": 3,
   "id": "59a1ca7f",
   "metadata": {},
   "outputs": [
    {
     "name": "stdout",
     "output_type": "stream",
     "text": [
      "Enter a string: Learn the basics and applications of machine learning (ML) with examples and Python code. Explore supervised, unsupervised, and reinforcement learning, data processing, dimensionality reduction, natural language processing, neural networks, and more.\n",
      "Words started with a or e in a given strings are \n",
      "{'examples', 'applications', 'and'}\n"
     ]
    }
   ],
   "source": [
    "def start_ae(string):\n",
    "    wordlist = []\n",
    "    for word in string.split():\n",
    "        if word.startswith('a') or word.startswith('e'):\n",
    "            wordlist.append(word)\n",
    "    return set(wordlist)\n",
    "\n",
    "string = input('Enter a string: ')\n",
    "print(f'Words started with a or e in a given strings are \\n{start_ae(string)}')"
   ]
  },
  {
   "cell_type": "markdown",
   "id": "17739ee6",
   "metadata": {},
   "source": [
    "### Write a Python program to abbreviate 'Road' as 'Rd.' in a given string."
   ]
  },
  {
   "cell_type": "code",
   "execution_count": 5,
   "id": "46f64ae4",
   "metadata": {},
   "outputs": [
    {
     "name": "stdout",
     "output_type": "stream",
     "text": [
      "Enter a name for which you required abbreviation: Road\n",
      "Abbreviation of Road is Rd\n"
     ]
    }
   ],
   "source": [
    "def abbreviation(string):\n",
    "    return string[0]+string[-1]\n",
    "\n",
    "string = input('Enter a name for which you required abbreviation: ')\n",
    "print(f'Abbreviation of {string} is {abbreviation(string)}')"
   ]
  }
 ],
 "metadata": {
  "kernelspec": {
   "display_name": "Python 3 (ipykernel)",
   "language": "python",
   "name": "python3"
  },
  "language_info": {
   "codemirror_mode": {
    "name": "ipython",
    "version": 3
   },
   "file_extension": ".py",
   "mimetype": "text/x-python",
   "name": "python",
   "nbconvert_exporter": "python",
   "pygments_lexer": "ipython3",
   "version": "3.9.12"
  }
 },
 "nbformat": 4,
 "nbformat_minor": 5
}
